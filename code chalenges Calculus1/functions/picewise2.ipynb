{
 "cells": [
  {
   "cell_type": "markdown",
   "metadata": {},
   "source": [
    "----\n",
    "\n",
    "# Excercise4: Evaluate a function at or near a point\n",
    "\n",
    "----"
   ]
  },
  {
   "cell_type": "code",
   "execution_count": 2,
   "metadata": {},
   "outputs": [],
   "source": [
    "import numpy as np;\n",
    "import sympy as sym;\n",
    "import matplotlib.pyplot as plt\n",
    "from sympy.abc import x"
   ]
  },
  {
   "cell_type": "code",
   "execution_count": 7,
   "metadata": {},
   "outputs": [
    {
     "name": "stdout",
     "output_type": "stream",
     "text": [
      "using numpy xx: -0.9494949494949498\n",
      "using sympy : -1.0\n"
     ]
    }
   ],
   "source": [
    "# \"\"\"\"\"\"Sympy defination of the function\"\"\"\"\"\"\"\"\"\n",
    "\n",
    "# list function pieces\n",
    "piece1 = 0\n",
    "piece2 = -2*x\n",
    "piece3 = x**3/10\n",
    "# put them together with conditions\n",
    "s_y = sym.Piecewise( (piece1,x<0),(piece2,(x>=0) & (x<3)),(piece3,x>=3) )\n",
    "sym_fx = sym.lambdify(x,s_y)\n",
    "# plot it\n",
    "\n",
    "# \"\"\"\"\"\"\"\"\"Numpy defination of the function\"\"\"\"\"\"\"\"\"\n",
    "xDomain = [-3,5]\n",
    "steps = 100\n",
    "xx = np.linspace(xDomain[0],xDomain[1],steps)\n",
    "\n",
    "\n",
    "part1 = 0         * (xx<0)\n",
    "part2 = -2*xx     * ((xx <= 0) &  (xx <3))\n",
    "part3 = 0.1*xx**3 * (xx>=3)\n",
    "\n",
    "y = part1+part2+part3;\n",
    "point = 0.5;\n",
    "# the point that is close to 0.5 in our xx \n",
    "# when implementing math to code it can get confusing \n",
    "# xx variable doesnt contain 0.5 soo fx(xidx)=-0.94949495 fx(0.5)=-1\n",
    "xidx = np.argmin((xx-point)**2)\n",
    "print(\"using numpy xx:\" ,sym_fx(xx[xidx]))\n",
    "print(\"using sympy :\",sym_fx(point))"
   ]
  }
 ],
 "metadata": {
  "kernelspec": {
   "display_name": "base",
   "language": "python",
   "name": "python3"
  },
  "language_info": {
   "codemirror_mode": {
    "name": "ipython",
    "version": 3
   },
   "file_extension": ".py",
   "mimetype": "text/x-python",
   "name": "python",
   "nbconvert_exporter": "python",
   "pygments_lexer": "ipython3",
   "version": "3.11.7"
  }
 },
 "nbformat": 4,
 "nbformat_minor": 2
}
