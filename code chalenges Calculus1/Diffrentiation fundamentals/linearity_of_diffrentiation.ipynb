{
 "cells": [
  {
   "cell_type": "code",
   "execution_count": 8,
   "metadata": {},
   "outputs": [],
   "source": [
    "import sympy as sym;\n",
    "import numpy as np;\n",
    "from sympy.abc import x;\n",
    "import matplotlib.pyplot as plt;\n",
    "\n",
    "import matplotlib_inline.backend_inline\n",
    "matplotlib_inline.backend_inline.set_matplotlib_formats('svg')"
   ]
  },
  {
   "cell_type": "markdown",
   "metadata": {},
   "source": [
    "-----\n",
    "\n",
    "## $ f\\left(x\\right)\\ =\\ ax^2 + bx^3 + ce^{2x} $\n",
    "\n",
    " \n",
    "\n",
    "-----"
   ]
  },
  {
   "cell_type": "code",
   "execution_count": 9,
   "metadata": {},
   "outputs": [
    {
     "data": {
      "text/latex": [
       "$\\displaystyle a x^{2} + b x^{3} + c e^{2 x}$"
      ],
      "text/plain": [
       "a*x**2 + b*x**3 + c*exp(2*x)"
      ]
     },
     "execution_count": 9,
     "metadata": {},
     "output_type": "execute_result"
    }
   ],
   "source": [
    "a , b , c  = sym.symbols(('a','b','c'))\n",
    "fx = (a*x**2) +(b*x**3) + (c*sym.exp(2*x))\n",
    "\n",
    "\n",
    "fx        \n"
   ]
  },
  {
   "cell_type": "markdown",
   "metadata": {},
   "source": [
    "------\n",
    "## $ \\frac{d}{dx\\ }\\left[af\\left(x\\right)\\ +\\ bg\\left(x\\right)\\right]\\ =\\ af'\\left(x\\right)\\ +\\ bg'\\left(x\\right) $\n",
    "\n"
   ]
  },
  {
   "cell_type": "markdown",
   "metadata": {},
   "source": [
    "-----\n",
    "\n",
    "\n",
    "## Derivative of indivisual terms added together \n",
    "\n",
    "\n",
    "-----"
   ]
  },
  {
   "cell_type": "code",
   "execution_count": 10,
   "metadata": {},
   "outputs": [
    {
     "data": {
      "text/latex": [
       "$\\displaystyle 2 a x + 3 b x^{2} + 2 c e^{2 x}$"
      ],
      "text/plain": [
       "2*a*x + 3*b*x**2 + 2*c*exp(2*x)"
      ]
     },
     "execution_count": 10,
     "metadata": {},
     "output_type": "execute_result"
    }
   ],
   "source": [
    "fxdx = sym.diff((a*x**2),x) + sym.diff((b*x**3),x) + sym.diff((c*sym.exp(2*x)),x)\n",
    "\n",
    "fxdx"
   ]
  },
  {
   "cell_type": "markdown",
   "metadata": {},
   "source": [
    "-----\n",
    "\n",
    "## Derivated of the entire function\n",
    "\n",
    "----"
   ]
  },
  {
   "cell_type": "code",
   "execution_count": 11,
   "metadata": {},
   "outputs": [
    {
     "data": {
      "text/latex": [
       "$\\displaystyle 2 a x + 3 b x^{2} + 2 c e^{2 x}$"
      ],
      "text/plain": [
       "2*a*x + 3*b*x**2 + 2*c*exp(2*x)"
      ]
     },
     "execution_count": 11,
     "metadata": {},
     "output_type": "execute_result"
    }
   ],
   "source": [
    "fxdx = sym.diff(fx,x)\n",
    "\n",
    "fxdx"
   ]
  }
 ],
 "metadata": {
  "kernelspec": {
   "display_name": "Python 3",
   "language": "python",
   "name": "python3"
  },
  "language_info": {
   "codemirror_mode": {
    "name": "ipython",
    "version": 3
   },
   "file_extension": ".py",
   "mimetype": "text/x-python",
   "name": "python",
   "nbconvert_exporter": "python",
   "pygments_lexer": "ipython3",
   "version": "3.12.4"
  }
 },
 "nbformat": 4,
 "nbformat_minor": 2
}
