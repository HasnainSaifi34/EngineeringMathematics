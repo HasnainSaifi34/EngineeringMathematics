{
 "cells": [
  {
   "cell_type": "code",
   "execution_count": 1,
   "metadata": {},
   "outputs": [],
   "source": [
    "import numpy as np;\n",
    "import sympy as sym;\n",
    "import matplotlib.pyplot as plt;"
   ]
  },
  {
   "cell_type": "markdown",
   "metadata": {},
   "source": [
    "lim <sub> phi -> 0 </sub> $ [  sin(phi)/phi ] = 1  $   </br>\n",
    "\n",
    "lim <sub> phi -> 0 </sub> $ [ (cos(phi)-1)/phi ] = 0$"
   ]
  },
  {
   "cell_type": "code",
   "execution_count": 15,
   "metadata": {},
   "outputs": [
    {
     "name": "stdout",
     "output_type": "stream",
     "text": [
      "lim phi -> 0   [sin(phi)/phi]     = 1 \n",
      "lim phi -> 0   [(cos(phi)-1)/phi] = 0\n"
     ]
    }
   ],
   "source": [
    "phi = sym.var('phi')\n",
    "\n",
    "Fx = (sym.sin(phi)/phi)\n",
    "Gx = (sym.cos(phi)-1)/phi\n",
    "target = 0\n",
    "\n",
    "lim_sin = sym.limit(Fx,phi,target,dir='+-')\n",
    "\n",
    "lim_cos = sym.limit(Gx,phi,target,dir='+-')\n",
    "\n",
    "\n",
    "print(f\"lim phi -> 0   [sin(phi)/phi]     = {lim_sin} \")\n",
    "print(f\"lim phi -> 0   [(cos(phi)-1)/phi] = {lim_cos}\")\n",
    "\n"
   ]
  }
 ],
 "metadata": {
  "kernelspec": {
   "display_name": "base",
   "language": "python",
   "name": "python3"
  },
  "language_info": {
   "codemirror_mode": {
    "name": "ipython",
    "version": 3
   },
   "file_extension": ".py",
   "mimetype": "text/x-python",
   "name": "python",
   "nbconvert_exporter": "python",
   "pygments_lexer": "ipython3",
   "version": "3.11.7"
  }
 },
 "nbformat": 4,
 "nbformat_minor": 2
}
