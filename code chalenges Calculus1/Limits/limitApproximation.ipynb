{
 "cells": [
  {
   "cell_type": "markdown",
   "metadata": {},
   "source": [
    "-----\n",
    "# Approximating Limits via Zenos paradox \n",
    "<h4> This Algorithm is inspired by Zenos Paradox </h4>\n",
    "\n",
    "----"
   ]
  },
  {
   "cell_type": "markdown",
   "metadata": {},
   "source": [
    "----\n",
    "\n",
    "<h3> Psuedocode for the algorithm </h3>\n",
    "\n",
    "`` Start ``: x0 = [a-1,a+1]</br>\n",
    "</br>\n",
    "`` Loop Over ``:\n",
    " Evaluate y = f(x0)\n",
    " x0 <--- (x0+a)/2\n",
    " \n",
    "\n",
    "-----"
   ]
  },
  {
   "cell_type": "code",
   "execution_count": 9,
   "metadata": {},
   "outputs": [],
   "source": [
    "import numpy as np;\n",
    "import matplotlib.pyplot as plt"
   ]
  },
  {
   "cell_type": "code",
   "execution_count": 13,
   "metadata": {},
   "outputs": [
    {
     "name": "stdout",
     "output_type": "stream",
     "text": [
      "Limits Evaluated From Right\n",
      "[[3.         8.        ]\n",
      " [2.5        7.5       ]\n",
      " [2.25       7.25      ]\n",
      " [2.125      7.125     ]\n",
      " [2.0625     7.0625    ]\n",
      " [2.03125    7.03125   ]\n",
      " [2.015625   7.015625  ]\n",
      " [2.0078125  7.0078125 ]\n",
      " [2.00390625 7.00390625]\n",
      " [2.00195312 7.00195312]\n",
      " [2.00097656 7.00097656]\n",
      " [2.00048828 7.00048828]\n",
      " [2.00024414 7.00024414]\n",
      " [2.00012207 7.00012207]]\n",
      "\n",
      "\n",
      "Limits Evaluated from Left\n",
      "[[1.5        6.5       ]\n",
      " [1.75       6.75      ]\n",
      " [1.875      6.875     ]\n",
      " [1.9375     6.9375    ]\n",
      " [1.96875    6.96875   ]\n",
      " [1.984375   6.984375  ]\n",
      " [1.9921875  6.9921875 ]\n",
      " [1.99609375 6.99609375]\n",
      " [1.99804688 6.99804688]\n",
      " [1.99902344 6.99902344]\n",
      " [1.99951172 6.99951172]\n",
      " [1.99975586 6.99975586]\n",
      " [1.99987793 6.99987793]\n",
      " [1.99993896 6.99993896]]\n",
      "\n",
      "\n",
      "limits Evaluated at Exactly 1 f(2)=:undefined\n"
     ]
    }
   ],
   "source": [
    "\n",
    "def f(x):\n",
    "    function1 = np.cos(x**2)**2+np.pi\n",
    "    function2 = (x**2+3*x-10)/(x-2)\n",
    "    function3 = abs(x-2)/x-2\n",
    "    return function2\n",
    "\n",
    "\n",
    "a = +2;\n",
    "\n",
    "x0 = [a-1,a+1]\n",
    "x_y_positive=[]\n",
    "x_y_negetive=[]\n",
    "\n",
    "for i in range(14):\n",
    "    \n",
    "    x_y_positive.append([x0[1],f(x0[1])])\n",
    "    x0[1] = (x0[1]+a)/2\n",
    "    x0[0] = (x0[0]+a)/2\n",
    "    x_y_negetive.append([x0[0],f(x0[0])])\n",
    "\n",
    "\n",
    "print(\"Limits Evaluated From Right\")\n",
    "print(np.array(x_y_positive))\n",
    "\n",
    "\n",
    "print(\"\\n\")\n",
    "\n",
    "\n",
    "print(\"Limits Evaluated from Left\")\n",
    "print(np.array(x_y_negetive))\n",
    "\n",
    "\n",
    "print(\"\\n\")\n",
    "\n",
    "print(\"limits Evaluated at Exactly 1 f(2)=:undefined\")\n"
   ]
  }
 ],
 "metadata": {
  "kernelspec": {
   "display_name": "base",
   "language": "python",
   "name": "python3"
  },
  "language_info": {
   "codemirror_mode": {
    "name": "ipython",
    "version": 3
   },
   "file_extension": ".py",
   "mimetype": "text/x-python",
   "name": "python",
   "nbconvert_exporter": "python",
   "pygments_lexer": "ipython3",
   "version": "3.11.7"
  }
 },
 "nbformat": 4,
 "nbformat_minor": 2
}
