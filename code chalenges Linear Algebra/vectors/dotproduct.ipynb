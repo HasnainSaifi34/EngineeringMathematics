{
 "cells": [
  {
   "cell_type": "markdown",
   "metadata": {},
   "source": [
    "----\n",
    "# Code Chalenge\n",
    "\n",
    "----\n"
   ]
  },
  {
   "cell_type": "markdown",
   "metadata": {},
   "source": [
    "<b> Create \"2\" a 4x6 matrix of random numbers <b><br/>\n",
    "<i> use a for loop to compute dot products between corresponding columns </i>"
   ]
  },
  {
   "cell_type": "code",
   "execution_count": 2,
   "metadata": {},
   "outputs": [],
   "source": [
    "import numpy as np\n"
   ]
  },
  {
   "cell_type": "code",
   "execution_count": 13,
   "metadata": {},
   "outputs": [
    {
     "name": "stdout",
     "output_type": "stream",
     "text": [
      "Matrix 1:\n",
      "[[-0.51422892 -0.24041495 -0.95614407 -1.29514125]\n",
      " [-0.49823398 -0.19498586 -2.37028667  0.46890452]\n",
      " [ 0.48877438 -1.82143391  0.24342879 -2.06721658]\n",
      " [ 0.1027798  -0.70956956 -0.59444229  0.04754857]\n",
      " [ 1.30805889  0.35920797 -1.09796715  0.96702898]\n",
      " [-1.76997762  0.9910317   0.20075082  0.31714123]]\n",
      "\n",
      "\n",
      "Matrix 2:\n",
      "[[-0.21476647  0.69820376 -1.41729139  0.61062836]\n",
      " [ 0.55430623  0.12241649  0.8066461   2.27808436]\n",
      " [-1.03191364  0.14190038  2.46701254  0.09224209]\n",
      " [ 0.9891185  -1.38577467 -0.42747041  0.07450968]\n",
      " [-1.07279336  1.93213978  1.62115587 -0.07694693]\n",
      " [-0.74158175 -1.03816259  1.40217443  0.31919118]]\n"
     ]
    }
   ],
   "source": [
    "import numpy as np\n",
    "\n",
    "def CreateMatrix(m, n):\n",
    "    matrix = []\n",
    "    for i in range(n):\n",
    "        vector_i = np.random.randn(m)\n",
    "        matrix.append(vector_i)\n",
    "\n",
    "    matrix = np.array(matrix)\n",
    "    return matrix\n",
    "\n",
    "m = 4\n",
    "n = 6\n",
    "\n",
    "matrix1 = CreateMatrix(m, n)\n",
    "matrix2 = CreateMatrix(m, n)\n",
    "\n",
    "print(\"Matrix 1:\")\n",
    "print(matrix1)\n",
    "print(\"\\n\")\n",
    "\n",
    "print(\"Matrix 2:\")\n",
    "print(matrix2)\n"
   ]
  },
  {
   "cell_type": "code",
   "execution_count": 14,
   "metadata": {},
   "outputs": [
    {
     "name": "stdout",
     "output_type": "stream",
     "text": [
      "[0.5068652805279678, -1.1438221412466667, -0.35297761837267777, 1.3426142476822873, -2.5636226901393853, 0.6664474204745189]\n"
     ]
    }
   ],
   "source": [
    "DP = [] ## This is an vector/list of dot products of corresponding matrices\n",
    "\n",
    "\n",
    "for i in range(len(matrix1)):\n",
    "     DP.append(np.dot(matrix1[i],matrix2[i]))\n",
    "\n",
    "\n",
    "print(DP)"
   ]
  }
 ],
 "metadata": {
  "kernelspec": {
   "display_name": "Python 3",
   "language": "python",
   "name": "python3"
  },
  "language_info": {
   "codemirror_mode": {
    "name": "ipython",
    "version": 3
   },
   "file_extension": ".py",
   "mimetype": "text/x-python",
   "name": "python",
   "nbconvert_exporter": "python",
   "pygments_lexer": "ipython3",
   "version": "3.12.0"
  }
 },
 "nbformat": 4,
 "nbformat_minor": 2
}
