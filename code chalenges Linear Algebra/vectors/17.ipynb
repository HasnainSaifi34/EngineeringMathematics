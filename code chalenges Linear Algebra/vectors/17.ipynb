{
 "cells": [
  {
   "cell_type": "markdown",
   "metadata": {},
   "source": [
    "----\n",
    "# Code Challenge of Video 17 \n",
    "<h2>1) Generate two R(3) Vectors</h2>\n",
    "<h2>2)Generte two scalars </h2>\n",
    "\n",
    "<h2>3) Compute the Dot Product</h2>\n",
    "<h2>3) Compute the Dot Product of scaled vectors</h2>\n",
    "\n",
    "\n",
    "\n",
    "----"
   ]
  },
  {
   "cell_type": "code",
   "execution_count": 2,
   "metadata": {},
   "outputs": [],
   "source": [
    "import numpy as np \n",
    "import matplotlib.pyplot as plt \n"
   ]
  },
  {
   "cell_type": "code",
   "execution_count": 30,
   "metadata": {},
   "outputs": [
    {
     "name": "stdout",
     "output_type": "stream",
     "text": [
      "1.5681017898177734\n",
      "0.2706416826745547\n"
     ]
    }
   ],
   "source": [
    "# we need to check if dot product sign is invariant to scalar multiiplication does it change (sign of dot product) or not\n",
    "v1 = np.array(np.random.randn(3))\n",
    "v2 = np.array(np.random.randn(3))\n",
    "S1 = np.random.randn()\n",
    "S2 = np.random.randn()\n",
    "\n",
    "w1 = S1*v1;\n",
    "w2 = S2*v2;\n",
    "dpV = np.dot(v1,v2)\n",
    "dpW = np.dot(w1,w2)\n",
    "\n",
    "print(dpV)\n",
    "print(dpW)\n"
   ]
  }
 ],
 "metadata": {
  "kernelspec": {
   "display_name": "base",
   "language": "python",
   "name": "python3"
  },
  "language_info": {
   "codemirror_mode": {
    "name": "ipython",
    "version": 3
   },
   "file_extension": ".py",
   "mimetype": "text/x-python",
   "name": "python",
   "nbconvert_exporter": "python",
   "pygments_lexer": "ipython3",
   "version": "3.11.7"
  }
 },
 "nbformat": 4,
 "nbformat_minor": 2
}
