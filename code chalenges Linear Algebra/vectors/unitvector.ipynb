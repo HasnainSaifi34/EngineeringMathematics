{
 "cells": [
  {
   "cell_type": "markdown",
   "metadata": {},
   "source": [
    "----\n",
    "\n",
    "# dot products with unit vectors\n",
    "\n",
    "----"
   ]
  },
  {
   "cell_type": "markdown",
   "metadata": {},
   "source": [
    "----\n",
    "<h2>Create two random integer vector (R4)  </h2>\n",
    "<h2> compute the lengths of the indivisual vectors and magnitude abs(v1 . v2) their dot products </h2> \n",
    "<h2> Normalize the vector create two unit vector along the same direction </h2>\n",
    "<h2> Compute their abs(dot product) </h2>\n",
    "\n",
    "-----\n"
   ]
  },
  {
   "cell_type": "markdown",
   "metadata": {},
   "source": [
    "Normalizing a vector is essentially transforming it into a unit vector, which is a vector with a length of 1. Imagine an arrow representing the vector. Normalization scales the arrow to have a unit length, while preserving the original direction.\n",
    "\n",
    "Here's how it works:\n",
    "\n",
    "1. **Magnitude:** We first calculate the vector's magnitude, which is its overall length. This is similar to finding the hypotenuse of a right triangle formed by the vector's components.\n",
    "2. **Scaling by Magnitude:**  We then divide each component of the original vector by the magnitude. This scales the entire vector down proportionally, resulting in a unit length (1) while maintaining the direction.\n",
    "\n",
    "Think of it like adjusting the volume on a radio. Normalization doesn't change the station (direction), it just adjusts the loudness (magnitude) to a standard level.\n",
    "\n",
    "Here's why normalizing vectors is useful:\n",
    "\n",
    "* **Focuses on Direction:** Unit vectors represent pure direction, making them handy for calculations where only direction matters, like in lighting or physics.\n",
    "* **Comparison Convenience:** When comparing multiple vectors, normalizing them ensures you're comparing their directions on an equal footing (unit length).\n",
    "\n",
    "If you'd like to see an example of how normalization is done mathematically, feel free to ask!"
   ]
  },
  {
   "cell_type": "code",
   "execution_count": 1,
   "metadata": {},
   "outputs": [],
   "source": [
    "import numpy as np;\n",
    "import matplotlib.pyplot as plt;"
   ]
  },
  {
   "cell_type": "code",
   "execution_count": 150,
   "metadata": {},
   "outputs": [
    {
     "name": "stdout",
     "output_type": "stream",
     "text": [
      "dot product between v1 , v2 : 50.0\n",
      "dot product between w1 and w2 : 0.0979639167383865\n"
     ]
    }
   ],
   "source": [
    "v1 = np.round(20*np.random.randn(3)) ;\n",
    "v2 =  np.round(20*np.random.randn(3)) ;\n",
    "\n",
    "v1_norm = np.linalg.norm(v1);\n",
    "v2_norm = np.linalg.norm(v2);\n",
    "\n",
    "dp_v1_v2 = abs(np.dot(v1,v2));\n",
    "print(\"dot product between v1 , v2 :\",dp_v1_v2);\n",
    "\n",
    "mu1 = 1/v1_norm;\n",
    "mu2 = 1/v2_norm;\n",
    "\n",
    "w1= mu1*v1;\n",
    "\n",
    "w2 = mu2*v2;\n",
    "\n",
    "dp_w1_w2 = abs(np.dot(w1,w2));\n",
    "print(\"dot product between w1 and w2 :\",dp_w1_w2);\n",
    "\n",
    "\n",
    "\n",
    "# Normalization of v1 , v2 \n",
    "\n"
   ]
  }
 ],
 "metadata": {
  "kernelspec": {
   "display_name": "base",
   "language": "python",
   "name": "python3"
  },
  "language_info": {
   "codemirror_mode": {
    "name": "ipython",
    "version": 3
   },
   "file_extension": ".py",
   "mimetype": "text/x-python",
   "name": "python",
   "nbconvert_exporter": "python",
   "pygments_lexer": "ipython3",
   "version": "3.11.7"
  }
 },
 "nbformat": 4,
 "nbformat_minor": 2
}
