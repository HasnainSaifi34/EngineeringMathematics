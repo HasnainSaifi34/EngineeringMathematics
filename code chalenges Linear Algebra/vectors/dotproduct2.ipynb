{
 "cells": [
  {
   "cell_type": "markdown",
   "metadata": {},
   "source": [
    "# Code Challenge (vectors) problem 2"
   ]
  },
  {
   "cell_type": "markdown",
   "metadata": {},
   "source": [
    "<b> Generate a two 100 dimenstional random vectors </b></br>\n",
    "<i> compute the dot product with a.b and also b.a </i>"
   ]
  },
  {
   "cell_type": "code",
   "execution_count": 1,
   "metadata": {},
   "outputs": [],
   "source": [
    "import numpy as np"
   ]
  },
  {
   "cell_type": "code",
   "execution_count": 2,
   "metadata": {},
   "outputs": [],
   "source": [
    "## creating a two 100 dimentional vectior\n",
    "\n",
    "n = 100\n",
    "\n",
    "v1 = np.random.randn(n)\n",
    "v2 = np.random.randn(n)\n",
    "\n"
   ]
  },
  {
   "cell_type": "code",
   "execution_count": 3,
   "metadata": {},
   "outputs": [
    {
     "name": "stdout",
     "output_type": "stream",
     "text": [
      "the dot product v1.v2 :\n",
      "\n",
      "\n",
      "-12.626653354718238\n"
     ]
    }
   ],
   "source": [
    "#3 compute a .b\n",
    "\n",
    "dp1 = np.dot(v1,v2)\n",
    "\n",
    "print(\"the dot product v1.v2 :\")\n",
    "print(\"\\n\")\n",
    "print(dp1)\n"
   ]
  },
  {
   "cell_type": "code",
   "execution_count": 4,
   "metadata": {},
   "outputs": [
    {
     "name": "stdout",
     "output_type": "stream",
     "text": [
      "the dot product of v2 . v1 : \n",
      "-12.626653354718238\n"
     ]
    }
   ],
   "source": [
    "## compute b.a\n",
    "\n",
    "dp2 = np.dot(v2,v1)\n",
    "\n",
    "print(\"the dot product of v2 . v1 : \")\n",
    "print(dp2)"
   ]
  },
  {
   "cell_type": "code",
   "execution_count": 5,
   "metadata": {},
   "outputs": [
    {
     "name": "stdout",
     "output_type": "stream",
     "text": [
      "the dot product is commutative\n"
     ]
    }
   ],
   "source": [
    "if(dp1==dp2):\n",
    "    print(\"the dot product is commutative\")\n",
    "else:\n",
    "    print(\"there is some error with your calculation\")\n"
   ]
  }
 ],
 "metadata": {
  "kernelspec": {
   "display_name": "base",
   "language": "python",
   "name": "python3"
  },
  "language_info": {
   "codemirror_mode": {
    "name": "ipython",
    "version": 3
   },
   "file_extension": ".py",
   "mimetype": "text/x-python",
   "name": "python",
   "nbconvert_exporter": "python",
   "pygments_lexer": "ipython3",
   "version": "3.11.7"
  }
 },
 "nbformat": 4,
 "nbformat_minor": 2
}
