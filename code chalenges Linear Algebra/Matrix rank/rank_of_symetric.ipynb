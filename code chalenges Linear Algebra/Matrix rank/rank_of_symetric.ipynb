{
 "cells": [
  {
   "cell_type": "markdown",
   "metadata": {},
   "source": [
    "-----\n",
    "\n",
    "## Rank of symetric matrices $ A^TA $ and  $ AA^T $\n",
    "\n",
    "\n",
    "----"
   ]
  },
  {
   "cell_type": "code",
   "execution_count": 21,
   "metadata": {},
   "outputs": [],
   "source": [
    "import numpy as np;\n",
    "import matplotlib.pyplot as plt"
   ]
  },
  {
   "cell_type": "markdown",
   "metadata": {},
   "source": [
    "we know that </br>\n",
    "$ rank(A) = rank(A^T) = rank(AA^T) = rank(A^TA) $\n",
    "\n",
    "To understand the equality of ranks in the context of a matrix $ A $, let’s break down the properties:\n",
    "\n",
    "1. **Rank of $ A $ and $ A^T $**:\n",
    "   The rank of a matrix is defined as the maximum number of linearly independent rows (or columns) in the matrix. For any matrix $ A $, the rank of $ A $ is equal to the rank of its transpose $ A^T $. This is because transposing a matrix does not change the number of linearly independent rows or columns.\n",
    "\n",
    "   $\n",
    "   \\text{rank}(A) = \\text{rank}(A^T)\n",
    "   $\n",
    "\n",
    "2. **Rank of $ AA^T $ and $ A^TA $**:\n",
    "   When you multiply a matrix $ A $ by its transpose $ A^T $, or $ A^T $ by $ A $, the result is a symmetric matrix. Let’s examine why these ranks are equal to the rank of $ A $.\n",
    "\n",
    "   - **Rank of $ AA^T $**:\n",
    "     The matrix $ AA^T $ is a square matrix that is formed by multiplying $ A $ with its transpose. The rank of $ AA^T $ is equal to the rank of $ A $. This can be shown as follows:\n",
    "     - $ AA^T $ is a symmetric matrix whose rank is limited by the rank of $ A $.\n",
    "     - The columns of $ AA^T $ span the same space as the columns of $ A $, so the rank of $ AA^T $ is the same as the rank of $ A $.\n",
    "\n",
    "   - **Rank of $ A^TA $**:\n",
    "     Similarly, $ A^TA $ is also a symmetric matrix, and its rank is equal to the rank of $ A $. This is because:\n",
    "     - $ A^TA $ is a projection matrix onto the column space of $ A $.\n",
    "     - The rank of $ A^TA $ is also limited by the rank of $ A $.\n",
    "\n",
    "   $\n",
    "   \\text{rank}(AA^T) = \\text{rank}(A)\n",
    "   $\n",
    "   $\n",
    "   \\text{rank}(A^TA) = \\text{rank}(A)\n",
    "   $\n",
    "\n",
    "3. **Equality of Ranks**:\n",
    "   To summarize, the rank of the matrix $ A $ is the same as the ranks of $ A^T $, $ AA^T $, and $ A^TA $. This follows from the properties of matrix multiplication and transposition:\n",
    "\n",
    "   $\n",
    "   \\text{rank}(A) = \\text{rank}(A^T) = \\text{rank}(AA^T) = \\text{rank}(A^TA)\n",
    "   $\n",
    "\n",
    "In essence, these equalities are based on the fact that the rank of a product of matrices is limited by the rank of the factors, and the product of a matrix with its transpose or its transpose with itself still captures the same dimensionality of the row or column space of the original matrix $ A $."
   ]
  },
  {
   "cell_type": "code",
   "execution_count": 22,
   "metadata": {},
   "outputs": [],
   "source": [
    "(m,n) = (np.random.randint(2,7),np.random.randint(2,7))\n",
    "rank = lambda M : np.linalg.matrix_rank(M)\n",
    "A = np.random.randn(m,n)"
   ]
  },
  {
   "cell_type": "code",
   "execution_count": 23,
   "metadata": {},
   "outputs": [],
   "source": [
    "A_T = A.T;\n",
    "\n",
    "AA_T = A @ A_T # AA^T\n",
    "\n",
    "\n",
    "A_T_A = A_T @ A # A^TA"
   ]
  },
  {
   "cell_type": "code",
   "execution_count": 24,
   "metadata": {},
   "outputs": [
    {
     "name": "stdout",
     "output_type": "stream",
     "text": [
      "Rank of A : 5\n",
      "Rank of A^T : 5\n",
      "Rank of AA^T : 5\n",
      "Rank of A^TA : 5\n"
     ]
    }
   ],
   "source": [
    "print(f\"Rank of A : {rank(A)}\")\n",
    "print(f\"Rank of A^T : {rank(A_T)}\")\n",
    "print(f\"Rank of AA^T : {rank(AA_T)}\")\n",
    "print(f\"Rank of A^TA : {rank(A_T_A)}\")"
   ]
  }
 ],
 "metadata": {
  "kernelspec": {
   "display_name": "base",
   "language": "python",
   "name": "python3"
  },
  "language_info": {
   "codemirror_mode": {
    "name": "ipython",
    "version": 3
   },
   "file_extension": ".py",
   "mimetype": "text/x-python",
   "name": "python",
   "nbconvert_exporter": "python",
   "pygments_lexer": "ipython3",
   "version": "3.11.7"
  }
 },
 "nbformat": 4,
 "nbformat_minor": 2
}
