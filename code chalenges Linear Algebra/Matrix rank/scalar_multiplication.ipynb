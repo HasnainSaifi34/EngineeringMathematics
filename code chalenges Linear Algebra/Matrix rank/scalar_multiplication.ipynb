{
 "cells": [
  {
   "cell_type": "code",
   "execution_count": 2,
   "metadata": {},
   "outputs": [],
   "source": [
    "import numpy as np;\n",
    "import matplotlib.pyplot as plt;"
   ]
  },
  {
   "cell_type": "code",
   "execution_count": 3,
   "metadata": {},
   "outputs": [],
   "source": [
    "def MatrixType(M):\n",
    " rank_value = rank(M)\n",
    " (m,n)= ( M.shape[0] , M.shape[1])  \n",
    " if(rank_value == min(m,n)):\n",
    "    print(\"this is a full rank matrix\")\n",
    "\n",
    " elif(rank_value < min(m,n)):\n",
    "    print(\"this is a reduced rank matrix\")\n",
    "  \n",
    "def Generate_Matrix(rank ):\n",
    "    m = rank + 1;\n",
    "    n = rank +1;\n",
    "    A = np.random.randn(m,rank)\n",
    "    B = np.random.randn(rank,n)\n",
    "    C = A @ B;\n",
    "    return C\n"
   ]
  },
  {
   "cell_type": "markdown",
   "metadata": {},
   "source": [
    "------\n",
    "\n",
    "## Demonstration of rank on scalar multiplication\n",
    "\n",
    "$ rank(A) = rank(c*A) $  where c is just a scalar\n",
    "\n",
    "---"
   ]
  },
  {
   "cell_type": "code",
   "execution_count": 4,
   "metadata": {},
   "outputs": [
    {
     "name": "stdout",
     "output_type": "stream",
     "text": [
      "this is a reduced rank matrix\n",
      "\n",
      "\n",
      "this is a full rank matrix\n"
     ]
    }
   ],
   "source": [
    "# Create two rectangular matrices with same shape one full rank one reduce rank\n",
    "\n",
    "array = lambda arr : np.array(arr)\n",
    "rank = lambda M : np.linalg.matrix_rank(M)\n",
    "\n",
    "Reduced_Rank_Mat = Generate_Matrix(rank=5)\n",
    "\n",
    "(m,n) = (Reduced_Rank_Mat.shape[0],Reduced_Rank_Mat.shape[1])\n",
    "\n",
    "MatrixType(Reduced_Rank_Mat)\n",
    "\n",
    "Full_Rank_Mat = np.random.randn(m,n)\n",
    "\n",
    "print('\\n')\n",
    "MatrixType(Full_Rank_Mat)\n",
    "\n"
   ]
  }
 ],
 "metadata": {
  "kernelspec": {
   "display_name": "base",
   "language": "python",
   "name": "python3"
  },
  "language_info": {
   "codemirror_mode": {
    "name": "ipython",
    "version": 3
   },
   "file_extension": ".py",
   "mimetype": "text/x-python",
   "name": "python",
   "nbconvert_exporter": "python",
   "pygments_lexer": "ipython3",
   "version": "3.11.7"
  }
 },
 "nbformat": 4,
 "nbformat_minor": 2
}
