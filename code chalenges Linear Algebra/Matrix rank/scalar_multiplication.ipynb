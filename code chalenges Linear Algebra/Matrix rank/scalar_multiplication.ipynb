{
 "cells": [
  {
   "cell_type": "code",
   "execution_count": 3,
   "metadata": {},
   "outputs": [],
   "source": [
    "import numpy as np;\n",
    "import matplotlib.pyplot as plt;"
   ]
  },
  {
   "cell_type": "markdown",
   "metadata": {},
   "source": [
    "------\n",
    "\n",
    "## Demonstration of rank on scalar multiplication\n",
    "\n",
    "$ rank(A) = rank(c*A) $  where c is just a scalar\n",
    "\n",
    "---"
   ]
  },
  {
   "cell_type": "code",
   "execution_count": 34,
   "metadata": {},
   "outputs": [
    {
     "name": "stdout",
     "output_type": "stream",
     "text": [
      "this is a full rank matrix\n"
     ]
    },
    {
     "data": {
      "text/plain": [
       "4"
      ]
     },
     "execution_count": 34,
     "metadata": {},
     "output_type": "execute_result"
    }
   ],
   "source": [
    "# Create two rectangular matrices with same shape one full rank one reduce rank\n",
    "\n",
    "(m,n) = (4,6)\n",
    "array = lambda arr : np.array(arr)\n",
    "rank = lambda M : np.linalg.matrix_rank(M)\n",
    "\n",
    "def MatrixType(M):\n",
    " rank_value = rank(M)\n",
    " (m,n)= ( M.shape[0] , M.shape[1])  \n",
    " if(rank_value == min(m,n)):\n",
    "    print(\"this is a full rank matrix\")\n",
    "\n",
    " elif(rank_value < min(m,n)):\n",
    "    print(\"this is a reduced rank matrix\")\n",
    "  \n",
    "\n",
    "def Generate_Matrix(rank , m , n):\n",
    "    A = np.random.randn(m,rank)\n",
    "    B = np.random.randn(rank,n)\n",
    "    C = A @ B;\n",
    "    return C\n",
    "\n",
    "\n",
    "Reduced_Rank_Mat = Generate_Matrix(rank=5 , m=m , n=n)\n",
    "\n",
    "MatrixType(Reduced_Rank_Mat)\n",
    "\n",
    "rank(Reduced_Rank_Mat)"
   ]
  }
 ],
 "metadata": {
  "kernelspec": {
   "display_name": "base",
   "language": "python",
   "name": "python3"
  },
  "language_info": {
   "codemirror_mode": {
    "name": "ipython",
    "version": 3
   },
   "file_extension": ".py",
   "mimetype": "text/x-python",
   "name": "python",
   "nbconvert_exporter": "python",
   "pygments_lexer": "ipython3",
   "version": "3.11.7"
  }
 },
 "nbformat": 4,
 "nbformat_minor": 2
}
