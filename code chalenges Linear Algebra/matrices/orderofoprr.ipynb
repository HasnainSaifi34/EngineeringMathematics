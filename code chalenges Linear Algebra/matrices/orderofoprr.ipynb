{
 "cells": [
  {
   "cell_type": "markdown",
   "metadata": {},
   "source": [
    "----\n",
    "\n",
    "# Demonstrating (LIVE)^T = (E^T V^T I^T L^T)\n",
    "\n",
    "\n",
    "-----\n"
   ]
  },
  {
   "cell_type": "code",
   "execution_count": 2,
   "metadata": {},
   "outputs": [],
   "source": [
    "import numpy as np"
   ]
  },
  {
   "cell_type": "code",
   "execution_count": 100,
   "metadata": {},
   "outputs": [
    {
     "name": "stdout",
     "output_type": "stream",
     "text": [
      "(LIVE)^T = (E^T V^T I^T L^T)\n",
      "[[-10.60762295   5.40134949  15.17149094  11.60012867]\n",
      " [  4.43957543   9.73181586   9.16763282   9.00959189]\n",
      " [ -2.74402893   8.46343189  11.87699322   9.5399655 ]\n",
      " [  3.85962253  -3.84570624  -6.55042718  -4.42607499]]\n",
      "\n",
      "\n",
      "[[-10.60762295   5.40134949  15.17149094  11.60012867]\n",
      " [  4.43957543   9.73181586   9.16763282   9.00959189]\n",
      " [ -2.74402893   8.46343189  11.87699322   9.5399655 ]\n",
      " [  3.85962253  -3.84570624  -6.55042718  -4.42607499]]\n"
     ]
    }
   ],
   "source": [
    "m = 4;\n",
    "n=4;\n",
    "k=4;\n",
    "\n",
    "\n",
    "L = np.random.randn(m,n)\n",
    "I = np.random.randn(n,m)\n",
    "V = np.random.randn(m,k)\n",
    "E = np.random.randn(k,n)\n",
    "\n",
    "LIVE = np.matmul(np.matmul(L,I),np.matmul(V,E))\n",
    "\n",
    "LIVE_T = LIVE.T;\n",
    "\n",
    "indivisual_T_mul = np.matmul(np.matmul(E.T,V.T),np.matmul(I.T,L.T))\n",
    "\n",
    "if(LIVE_T.all() == indivisual_T_mul.all()):\n",
    "    print(\"(LIVE)^T = (E^T V^T I^T L^T)\")\n",
    "else:\n",
    "    print(\"the computer rounding errors made the result look not equal\")    \n",
    "\n",
    "print(LIVE_T)\n",
    "print(\"\\n\")\n",
    "print(indivisual_T_mul)\n",
    "\n"
   ]
  }
 ],
 "metadata": {
  "kernelspec": {
   "display_name": "base",
   "language": "python",
   "name": "python3"
  },
  "language_info": {
   "codemirror_mode": {
    "name": "ipython",
    "version": 3
   },
   "file_extension": ".py",
   "mimetype": "text/x-python",
   "name": "python",
   "nbconvert_exporter": "python",
   "pygments_lexer": "ipython3",
   "version": "3.11.7"
  }
 },
 "nbformat": 4,
 "nbformat_minor": 2
}
