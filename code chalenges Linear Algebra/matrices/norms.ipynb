{
 "cells": [
  {
   "cell_type": "code",
   "execution_count": 2,
   "metadata": {},
   "outputs": [],
   "source": [
    "import numpy as np"
   ]
  },
  {
   "cell_type": "markdown",
   "metadata": {},
   "source": [
    "-----\n",
    "\n",
    "# Forbenius Norm: is sqrt(<A,A><sub>F</sub>)\n",
    "\n",
    "\n",
    "-----"
   ]
  },
  {
   "cell_type": "code",
   "execution_count": 5,
   "metadata": {},
   "outputs": [
    {
     "name": "stdout",
     "output_type": "stream",
     "text": [
      "Forbenius Norm of a matrix\n",
      "15.874507866387544\n"
     ]
    }
   ],
   "source": [
    "M1 = np.array(\n",
    "    [\n",
    "        [1,2,4],\n",
    "        [3,4,8],\n",
    "        [5,6,9]\n",
    "    ]\n",
    ")\n",
    "\n",
    "\n",
    "\n",
    "innerProduct = np.trace(M1.T@M1)\n",
    "forbenius_norm = np.sqrt(innerProduct)\n",
    "\n",
    "print(\"Forbenius Norm of a matrix\")\n",
    "print(forbenius_norm)"
   ]
  },
  {
   "cell_type": "markdown",
   "metadata": {},
   "source": [
    "-----\n",
    "\n",
    "## Induce 2 Matrix Norm\n",
    "Yes, that's correct! The induced 2-norm of a matrix $ A $ can also be expressed as:\n",
    "\n",
    "$\n",
    "\\| A \\|_2 = \\sup_{\\mathbf{x} \\neq 0} \\frac{\\| A \\mathbf{x} \\|_2}{\\| \\mathbf{x} \\|_2}\n",
    "$\n",
    "\n",
    "Here's a step-by-step explanation of this formulation:\n",
    "\n",
    "1. **Vector Norms**: $\\| \\mathbf{x} \\|_2$ denotes the Euclidean norm (2-norm) of the vector $\\mathbf{x}$, which is given by:\n",
    "   $\n",
    "   \\| \\mathbf{x} \\|_2 = \\sqrt{x_1^2 + x_2^2 + \\cdots + x_n^2}\n",
    "   $\n",
    "   for a vector $\\mathbf{x} = (x_1, x_2, \\ldots, x_n)^T$.\n",
    "\n",
    "2. **Transformation by $A$**: When you multiply a vector $\\mathbf{x}$ by the matrix $ A $, you get a new vector $ A \\mathbf{x} $.\n",
    "\n",
    "3. **Ratio of Norms**: The term $\\frac{\\| A \\mathbf{x} \\|_2}{\\| \\mathbf{x} \\|_2}$ represents how much the matrix $ A $ stretches the vector $\\mathbf{x}$. \n",
    "\n",
    "4. **Supremum**: The induced 2-norm $\\| A \\|_2$ is the supremum (least upper bound) of this ratio over all non-zero vectors $\\mathbf{x}$. This means we are looking for the maximum possible stretching effect of $ A $ on any vector $\\mathbf{x}$.\n",
    "\n",
    "### Connection to Singular Values\n",
    "\n",
    "This supremum is achieved when $\\mathbf{x}$ is a right singular vector corresponding to the largest singular value of $ A $. For a matrix $ A $ with singular values $\\sigma_1 \\geq \\sigma_2 \\geq \\ldots \\geq \\sigma_n$:\n",
    "\n",
    "$\n",
    "\\| A \\|_2 = \\sigma_1\n",
    "$\n",
    "\n",
    "Thus, the induced 2-norm $\\| A \\|_2$ is the largest singular value of $ A $, as it corresponds to the maximum ratio of $\\| A \\mathbf{x} \\|_2$ to $\\| \\mathbf{x} \\|_2$.\n",
    "\n",
    "### Summary\n",
    "\n",
    "The induced 2-norm of a matrix $ A $ is a measure of the maximum stretching effect of $ A $ on any vector, given by:\n",
    "\n",
    "$\n",
    "\\| A \\|_2 = \\sup_{\\mathbf{x} \\neq 0} \\frac{\\| A \\mathbf{x} \\|_2}{\\| \\mathbf{x} \\|_2}\n",
    "$\n",
    "\n",
    "This is equivalent to the largest singular value of $ A $.\n",
    "\n",
    "\n",
    "------"
   ]
  },
  {
   "cell_type": "code",
   "execution_count": null,
   "metadata": {},
   "outputs": [],
   "source": []
  }
 ],
 "metadata": {
  "kernelspec": {
   "display_name": "base",
   "language": "python",
   "name": "python3"
  },
  "language_info": {
   "codemirror_mode": {
    "name": "ipython",
    "version": 3
   },
   "file_extension": ".py",
   "mimetype": "text/x-python",
   "name": "python",
   "nbconvert_exporter": "python",
   "pygments_lexer": "ipython3",
   "version": "3.11.7"
  }
 },
 "nbformat": 4,
 "nbformat_minor": 2
}
