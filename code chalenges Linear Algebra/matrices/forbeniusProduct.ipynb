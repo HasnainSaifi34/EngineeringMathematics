{
 "cells": [
  {
   "cell_type": "markdown",
   "metadata": {},
   "source": [
    "-----\n",
    "\n",
    "\n",
    "# Forbenius Dot Product or inner product\n",
    "\n",
    "The term you're likely referring to is the **Frobenius inner product** (or Frobenius dot product). It is an operation used in linear algebra to find the inner product of two matrices. Here's a definition:\n",
    "\n",
    "### Frobenius Inner Product\n",
    "The Frobenius inner product of two matrices $ A $ and $ B $ of the same dimension is defined as the sum of the products of their corresponding elements. Mathematically, it is given by:\n",
    "\n",
    "$ \\langle A, B \\rangle_F = \\sum_{i=1}^m \\sum_{j=1}^n A_{ij} B_{ij} $\n",
    "\n",
    "where $ A $ and $ B $ are $ m \\times n $ matrices, and $ A_{ij} $ and $ B_{ij} $ are the elements of matrices $ A $ and $ B $ at row $ i $ and column $ j $.\n",
    "\n",
    "### Properties\n",
    "1. **Linearity**: The Frobenius inner product is linear in both arguments.\n",
    "2. **Symmetry**: $ \\langle A, B \\rangle_F = \\langle B, A \\rangle_F $.\n",
    "3. **Positive Definiteness**: $ \\langle A, A \\rangle_F \\geq 0 $ and $ \\langle A, A \\rangle_F = 0 $ if and only if $ A = 0 $.\n",
    "\n",
    "### Example\n",
    "Let $ A $ and $ B $ be $ 2 \\times 2 $ matrices:\n",
    "$ A = \\begin{pmatrix} 1 & 2 \\\\ 3 & 4 \\end{pmatrix}, \\quad B = \\begin{pmatrix} 5 & 6 \\\\ 7 & 8 \\end{pmatrix} $\n",
    "\n",
    "The Frobenius inner product $ \\langle A, B \\rangle_F $ is calculated as:\n",
    "$ \\langle A, B \\rangle_F = (1 \\cdot 5) + (2 \\cdot 6) + (3 \\cdot 7) + (4 \\cdot 8) = 5 + 12 + 21 + 32 = 70 $\n",
    "\n",
    "In this way, the Frobenius inner product generalizes the dot product to matrices.\n",
    "\n",
    "\n",
    "-----"
   ]
  },
  {
   "cell_type": "code",
   "execution_count": 1,
   "metadata": {},
   "outputs": [],
   "source": [
    "import numpy as np"
   ]
  },
  {
   "cell_type": "code",
   "execution_count": 12,
   "metadata": {},
   "outputs": [
    {
     "data": {
      "text/plain": [
       "339"
      ]
     },
     "execution_count": 12,
     "metadata": {},
     "output_type": "execute_result"
    }
   ],
   "source": [
    "M1 = np.array(\n",
    "    [\n",
    "        [1,2,4],\n",
    "        [3,4,8],\n",
    "        [5,6,9]\n",
    "    ]\n",
    ")\n",
    "\n",
    "M2 = np.array(\n",
    "    [\n",
    "        [5,6,9],\n",
    "        [7,8,20],\n",
    "        [8,4,1]\n",
    "    ]\n",
    ")\n",
    "\n",
    "\n",
    "def InnerProduct_M1(M1,M2):\n",
    "    innerProduct = M1*M2;\n",
    "    value = 0;\n",
    "    for i in range(len(innerProduct)):\n",
    "        C1 =innerProduct[i]\n",
    "        value+=sum(C1)\n",
    "    return value  \n",
    "\n",
    "InnerProduct_M1(M1,M2) \n",
    "\n"
   ]
  },
  {
   "cell_type": "markdown",
   "metadata": {},
   "source": [
    "----\n",
    "\n",
    "## Method 2 Vectorizing both Matrices and computing the dot product \n",
    "\n",
    "The vec(M1) dot vec(M2) method involves vectorizing the matrices and then computing their dot product. Here’s how it works:\n",
    "\n",
    "1. **Vectorization**: Flatten both matrices into column vectors by stacking their columns on top of each other. This operation is called \"vectorization.\"\n",
    "\n",
    "   For example, given the matrices:\n",
    "\n",
    "   $ M1 = \\begin{pmatrix}\n",
    "   1 & 2 & 4 \\\\\n",
    "   3 & 4 & 8 \\\\\n",
    "   5 & 6 & 9\n",
    "   \\end{pmatrix} $\n",
    "   \n",
    "   and\n",
    "   \n",
    "   $ M2 = \\begin{pmatrix}\n",
    "   5 & 6 & 9 \\\\\n",
    "   7 & 8 & 20 \\\\\n",
    "   8 & 4 & 1\n",
    "   \\end{pmatrix} $,\n",
    "\n",
    "   the vectorizations are:\n",
    "   \n",
    "   $\n",
    "   \\text{vec}(M1) = \\begin{pmatrix}\n",
    "   1 \\\\ 3 \\\\ 5 \\\\ 2 \\\\ 4 \\\\ 6 \\\\ 4 \\\\ 8 \\\\ 9\n",
    "   \\end{pmatrix},\n",
    "   \\quad\n",
    "   \\text{vec}(M2) = \\begin{pmatrix}\n",
    "   5 \\\\ 7 \\\\ 8 \\\\ 6 \\\\ 8 \\\\ 4 \\\\ 9 \\\\ 20 \\\\ 1\n",
    "   \\end{pmatrix}\n",
    "   $\n",
    "\n",
    "2. **Dot Product**: Compute the dot product of these two vectors. This involves multiplying corresponding elements of the vectors and summing the results.\n",
    "\n",
    "   $\n",
    "   \\text{vec}(M1) \\cdot \\text{vec}(M2) = (1 \\cdot 5) + (3 \\cdot 7) + (5 \\cdot 8) + (2 \\cdot 6) + (4 \\cdot 8) + (6 \\cdot 4) + (4 \\cdot 9) + (8 \\cdot 20) + (9 \\cdot 1)\n",
    "   $\n",
    "\n",
    "3. **Result**: The sum obtained from the above calculation is the Frobenius inner product of the matrices $ M1 $ and $ M2 $.\n",
    "\n",
    "This method essentially converts the matrix inner product problem into a vector dot product problem, leveraging the linearity and properties of the dot product to compute the Frobenius inner product efficiently.\n",
    "\n",
    "-----"
   ]
  },
  {
   "cell_type": "code",
   "execution_count": 24,
   "metadata": {},
   "outputs": [
    {
     "name": "stdout",
     "output_type": "stream",
     "text": [
      "inner product using vectorization method \n",
      "339\n"
     ]
    }
   ],
   "source": [
    "def Vect(M):\n",
    "    Row_Mat = np.transpose(M)\n",
    "    vect = []\n",
    "    for i in range(len(Row_Mat)):\n",
    "        for j in range(len(Row_Mat[0])):\n",
    "            vect.append(Row_Mat[i][j])\n",
    "    return vect\n",
    "\n",
    "v1 = np.array(Vect(M1))\n",
    "v2 = np.array(Vect(M2))\n",
    "              \n",
    "\n",
    "innerProduct = np.dot(v1,v2)\n",
    "print(\"inner product using vectorization method \")\n",
    "print(innerProduct)\n"
   ]
  },
  {
   "cell_type": "markdown",
   "metadata": {},
   "source": [
    "-----\n",
    "## Method 3 : <A,B><sub>F</sub> = trace(A<sup>T</sup>B)\n",
    "\n",
    "\n",
    "\n",
    "\n",
    "$ \\langle A, B \\rangle_F = \\text{tr}(A^T B) $\n",
    "\n",
    "Here’s an explanation of this formula:\n",
    "\n",
    "1. **Transpose and Multiply**: Compute the matrix product $ A^T B $. Here, $ A^T $ is the transpose of matrix $ A $, and $ B $ is matrix $ B $.\n",
    "\n",
    "2. **Trace Function**: The trace of a matrix (denoted as $\\text{tr}(\\cdot)$) is the sum of the diagonal elements of that matrix.\n",
    "\n",
    "By combining these steps, the Frobenius inner product is found as follows:\n",
    "\n",
    "$ \\langle A, B \\rangle_F = \\text{tr}(A^T B) $\n",
    "\n",
    "### Example\n",
    "\n",
    "Consider the matrices $ A $ and $ B $:\n",
    "\n",
    "$ A = \\begin{pmatrix} 1 & 2 \\\\ 3 & 4 \\end{pmatrix}, \\quad B = \\begin{pmatrix} 5 & 6 \\\\ 7 & 8 \\end{pmatrix} $\n",
    "\n",
    "1. **Transpose of $ A $**:\n",
    "$ A^T = \\begin{pmatrix} 1 & 3 \\\\ 2 & 4 \\end{pmatrix} $\n",
    "\n",
    "2. **Matrix Product $ A^T B $**:\n",
    "$ A^T B = \\begin{pmatrix} 1 & 3 \\\\ 2 & 4 \\end{pmatrix} \\begin{pmatrix} 5 & 6 \\\\ 7 & 8 \\end{pmatrix} = \\begin{pmatrix} 1 \\cdot 5 + 3 \\cdot 7 & 1 \\cdot 6 + 3 \\cdot 8 \\\\ 2 \\cdot 5 + 4 \\cdot 7 & 2 \\cdot 6 + 4 \\cdot 8 \\end{pmatrix} = \\begin{pmatrix} 26 & 30 \\\\ 38 & 44 \\end{pmatrix} $\n",
    "\n",
    "3. **Trace of $ A^T B $**:\n",
    "$ \\text{tr}(A^T B) = 26 + 44 = 70 $\n",
    "\n",
    "Therefore, the Frobenius inner product $ \\langle A, B \\rangle_F $ is 70.\n",
    "\n",
    "This approach confirms that the Frobenius inner product can be calculated using the trace of the product of the transpose of one matrix and the other matrix, providing an elegant and efficient method for computation.\n",
    "\n",
    "\n",
    "-----"
   ]
  },
  {
   "cell_type": "code",
   "execution_count": 25,
   "metadata": {},
   "outputs": [
    {
     "name": "stdout",
     "output_type": "stream",
     "text": [
      "innerProduct using trace method : 339\n"
     ]
    }
   ],
   "source": [
    "innerProduct = np.trace(M1.T @ M2)\n",
    "\n",
    "print(\"innerProduct using trace method :\",innerProduct)"
   ]
  }
 ],
 "metadata": {
  "kernelspec": {
   "display_name": "base",
   "language": "python",
   "name": "python3"
  },
  "language_info": {
   "codemirror_mode": {
    "name": "ipython",
    "version": 3
   },
   "file_extension": ".py",
   "mimetype": "text/x-python",
   "name": "python",
   "nbconvert_exporter": "python",
   "pygments_lexer": "ipython3",
   "version": "3.11.7"
  }
 },
 "nbformat": 4,
 "nbformat_minor": 2
}
