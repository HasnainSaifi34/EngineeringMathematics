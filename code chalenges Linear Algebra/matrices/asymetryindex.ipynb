{
 "cells": [
  {
   "cell_type": "markdown",
   "metadata": {},
   "source": [
    "-----\n",
    "\n",
    "## Code Challenge Matrix Aysmetry index\n",
    "\n",
    "\n",
    "-----"
   ]
  },
  {
   "cell_type": "markdown",
   "metadata": {},
   "source": [
    "----\n",
    "\n",
    "How one can Create an Skew Symectric matrix\n",
    "\n",
    "\n",
    "Skew_Mat = $ (M - M^T)/2 $\n",
    "\n",
    "Note M  should be (m,m)\n",
    "\n",
    "-----"
   ]
  },
  {
   "cell_type": "code",
   "execution_count": 2,
   "metadata": {},
   "outputs": [],
   "source": [
    "import numpy as np;\n",
    "import matplotlib.pyplot as plt;\n",
    "\n"
   ]
  },
  {
   "cell_type": "code",
   "execution_count": 3,
   "metadata": {},
   "outputs": [
    {
     "data": {
      "text/plain": [
       "array([[ 0.        ,  0.24765786, -0.39470045],\n",
       "       [-0.24765786,  0.        , -0.7054334 ],\n",
       "       [ 0.39470045,  0.7054334 ,  0.        ]])"
      ]
     },
     "execution_count": 3,
     "metadata": {},
     "output_type": "execute_result"
    }
   ],
   "source": [
    "m = round(abs(5*np.random.randn())) + 2; # for random matricces\n",
    "\n",
    "m = 3\n",
    "A = np.random.randn(m,m) \n",
    "sks_A = (A-A.T)/2 ## Skew Symetric matrix\n",
    "\n",
    "sks_A"
   ]
  },
  {
   "cell_type": "markdown",
   "metadata": {},
   "source": [
    "-----\n",
    "\n",
    "The Matrix Asymmetry Index can also be defined using the Frobenius norm of the skew-symmetric part of the matrix. This is given by:\n",
    "\n",
    "$ \\text{AI}(A) = \\frac{\\|A^{\\sim}\\|}{\\|A\\|} $\n",
    "\n",
    "where \n",
    "\n",
    "$ A^{\\sim} = \\frac{A - A^T}{2} $\n",
    "\n",
    "and $\\| \\cdot \\|$ represents the Frobenius norm.\n",
    "\n",
    "### Steps to Calculate the Asymmetry Index\n",
    "\n",
    "1. **Compute the Skew-Symmetric Part $ A^{\\sim} $**:\n",
    "   - Calculate the skew-symmetric part of the matrix $ A $ using the formula $ A^{\\sim} = \\frac{A - A^T}{2} $.\n",
    "\n",
    "2. **Compute the Frobenius Norm of $ A $ and $ A^{\\sim} $**:\n",
    "   - The Frobenius norm of a matrix $ B $ is given by:\n",
    "     $ \\|B\\| = \\sqrt{\\sum_{i=1}^{n} \\sum_{j=1}^{n} |B[i][j]|^2} $\n",
    "\n",
    "3. **Compute the Asymmetry Index**:\n",
    "   - Divide the Frobenius norm of $ A^{\\sim} $ by the Frobenius norm of $ A $.\n",
    "\n",
    "### Example\n",
    "\n",
    "Consider the same 3x3 matrix $ A $:\n",
    "\n",
    "$ A = \\begin{pmatrix}\n",
    "1 & 2 & 3 \\\\\n",
    "4 & 5 & 6 \\\\\n",
    "7 & 8 & 9\n",
    "\\end{pmatrix} $\n",
    "\n",
    "1. **Compute the Skew-Symmetric Part $ A^{\\sim} $**:\n",
    "\n",
    "$ A^T = \\begin{pmatrix}\n",
    "1 & 4 & 7 \\\\\n",
    "2 & 5 & 8 \\\\\n",
    "3 & 6 & 9\n",
    "\\end{pmatrix} $\n",
    "\n",
    "$ A^{\\sim} = \\frac{A - A^T}{2} = \\frac{1}{2} \\begin{pmatrix}\n",
    "0 & -2 & -4 \\\\\n",
    "2 & 0 & -2 \\\\\n",
    "4 & 2 & 0\n",
    "\\end{pmatrix} = \\begin{pmatrix}\n",
    "0 & -1 & -2 \\\\\n",
    "1 & 0 & -1 \\\\\n",
    "2 & 1 & 0\n",
    "\\end{pmatrix} $\n",
    "\n",
    "2. **Compute the Frobenius Norms**:\n",
    "   - Frobenius norm of $ A $:\n",
    "     $\n",
    "     \\|A\\| = \\sqrt{1^2 + 2^2 + 3^2 + 4^2 + 5^2 + 6^2 + 7^2 + 8^2 + 9^2} = \\sqrt{1 + 4 + 9 + 16 + 25 + 36 + 49 + 64 + 81} = \\sqrt{285} \\approx 16.88\n",
    "     $\n",
    "\n",
    "   - Frobenius norm of $ A^{\\sim} $:\n",
    "     $\n",
    "     \\|A^{\\sim}\\| = \\sqrt{0^2 + (-1)^2 + (-2)^2 + 1^2 + 0^2 + (-1)^2 + 2^2 + 1^2 + 0^2} = \\sqrt{0 + 1 + 4 + 1 + 0 + 1 + 4 + 1 + 0} = \\sqrt{12} \\approx 3.46\n",
    "     $\n",
    "\n",
    "3. **Compute the Asymmetry Index**:\n",
    "\n",
    "$ \\text{AI}(A) = \\frac{\\|A^{\\sim}\\|}{\\|A\\|} = \\frac{3.46}{16.88} \\approx 0.205 $\n",
    "\n",
    "So, the asymmetry index for this matrix is approximately 0.205.\n",
    "\n",
    "### Interpretation\n",
    "\n",
    "- An asymmetry index of 0 indicates that the matrix is symmetric.\n",
    "- A higher asymmetry index indicates a greater degree of asymmetry.\n",
    "\n",
    "This version of the Matrix Asymmetry Index provides a normalized measure of the asymmetry, taking into account the relative size of the skew-symmetric part compared to the entire matrix.\n",
    "\n",
    "\n",
    "-----"
   ]
  },
  {
   "cell_type": "code",
   "execution_count": 4,
   "metadata": {},
   "outputs": [
    {
     "name": "stdout",
     "output_type": "stream",
     "text": [
      "asymetric index of skew symetric matrix = 1 \n",
      "1.0 \n",
      "\n",
      "Asymetry index of symetric matrix = 0\n",
      "0.0 \n",
      "\n",
      "Asymetry index of random square matrices\n",
      "0.6635580350072308\n"
     ]
    }
   ],
   "source": [
    "## Matrix Asymetry Index\n",
    "\n",
    "## ai = 0; for symetric matrix\n",
    "\n",
    "## ai = 1; for skew syemtric matrix\n",
    "\n",
    "## ai ->(0,1) for partial symetric matrix;\n",
    "\n",
    "A = np.random.randn(m,m) \n",
    "\n",
    "\n",
    "symetric_Matrix = (A+A.T)/2\n",
    "\n",
    "skewsymetric_matrix = (A-A.T)/2\n",
    "\n",
    "\n",
    "index_skew_syemtric = np.linalg.norm( (skewsymetric_matrix-skewsymetric_matrix.T)/2 ,\"fro\" ) /  np.linalg.norm(skewsymetric_matrix,\"fro\")\n",
    "\n",
    "print(\"asymetric index of skew symetric matrix = 1 \")\n",
    "print(f\"{index_skew_syemtric} \\n\")\n",
    "\n",
    "\n",
    "index_symetric = np.linalg.norm( (symetric_Matrix-symetric_Matrix.T)/2 )/np.linalg.norm(symetric_Matrix)\n",
    "\n",
    "print(\"Asymetry index of symetric matrix = 0\")\n",
    "print(f\"{index_symetric} \\n\")\n",
    "\n",
    "\n",
    "index_asymetric = np.linalg.norm( (A-A.T)/2 )/np.linalg.norm(A)\n",
    "\n",
    "\n",
    "print(\"Asymetry index of random square matrices\")\n",
    "print(index_asymetric)\n"
   ]
  },
  {
   "cell_type": "code",
   "execution_count": 5,
   "metadata": {},
   "outputs": [
    {
     "data": {
      "text/plain": [
       "0.22360679774997896"
      ]
     },
     "execution_count": 5,
     "metadata": {},
     "output_type": "execute_result"
    }
   ],
   "source": [
    "def Symetry_Index(M):\n",
    "    M = np.array(M)\n",
    "    if(M.shape[0]==M.shape[1]):\n",
    "        skew_sym_M = (M - M.T)/2\n",
    "        value = np.linalg.norm(skew_sym_M)/np.linalg.norm(M)\n",
    "        return value;\n",
    "    else:\n",
    "        print(\"it is square matrix or either you are not using numpy\")\n",
    "        return (-1)**(0.5)\n",
    "    \n",
    "Symetry_Index([[4,4],[2,2]])\n"
   ]
  },
  {
   "cell_type": "markdown",
   "metadata": {},
   "source": [
    "-----\n",
    "\n",
    "## Creating a matrix of any given a Asymetric index\n",
    "\n",
    "$ M = (1-p)(A+A^T)/2 + p(A-A^T)/2 $\n",
    "\n",
    "Note $ p $ = MAI (Matrix Asymetric Index)\n",
    "\n",
    "<h3> Case Study </h3>\n",
    "\n",
    "Case1: $ p =0  $\n",
    "\n",
    "$ M = (A+A^T)/2 $\n",
    "\n",
    "$ M $ is a symetric Matrix for given $ p $ =0  \n",
    "\n",
    "Case2: $ p = 1 $\n",
    "\n",
    "$ M = (A-A^T)/2 $\n",
    "\n",
    "$ M $ is a skew symetric Matrix for given $ p $ =1  \n",
    "\n",
    "-----\n"
   ]
  },
  {
   "cell_type": "code",
   "execution_count": 49,
   "metadata": {},
   "outputs": [],
   "source": [
    "import matplotlib.pyplot as plt"
   ]
  },
  {
   "cell_type": "code",
   "execution_count": 134,
   "metadata": {},
   "outputs": [
    {
     "data": {
      "image/png": "[encoded data removed]",
      "text/plain": [
       "<Figure size 640x480 with 1 Axes>"
      ]
     },
     "metadata": {},
     "output_type": "display_data"
    }
   ],
   "source": [
    "m = (5*round(abs(np.random.randn())))+2\n",
    "\n",
    "sample = 100;\n",
    "xx = np.linspace(0,1,sample)\n",
    "\n",
    "yy = [];\n",
    "\n",
    "\n",
    "for i in range(sample):\n",
    "    A = np.random.randn(m,m)\n",
    "    p = xx[i];\n",
    "    M = (1-p)*((A+A.T)/2) + p*((A-A.T)/2)\n",
    "    yy.append(Symetry_Index(M))\n",
    "\n",
    "plt.title(f\"Matrix Asymmetry Index on {sample} random matrices (m={m})\")\n",
    "plt.plot(xx, yy, color='blue', linewidth=2)\n",
    "plt.xlabel('p')\n",
    "plt.ylabel('Symmetry Index')\n",
    "plt.grid(True)  # Optional: Add grid\n",
    "plt.show()"
   ]
  }
 ],
 "metadata": {
  "kernelspec": {
   "display_name": "base",
   "language": "python",
   "name": "python3"
  },
  "language_info": {
   "codemirror_mode": {
    "name": "ipython",
    "version": 3
   },
   "file_extension": ".py",
   "mimetype": "text/x-python",
   "name": "python",
   "nbconvert_exporter": "python",
   "pygments_lexer": "ipython3",
   "version": "3.11.7"
  }
 },
 "nbformat": 4,
 "nbformat_minor": 2
}
