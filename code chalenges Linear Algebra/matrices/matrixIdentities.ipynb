{
 "cells": [
  {
   "cell_type": "markdown",
   "metadata": {},
   "source": [
    "------\n",
    "\n",
    "In linear algebra, matrices have special types of identities, much like numbers do in arithmetic. The two primary identities are the multiplicative identity and the additive identity. Here’s an explanation of each:\n",
    "\n",
    "### Additive Identity\n",
    "\n",
    "The additive identity in the context of matrices is the matrix that, when added to any matrix, results in the original matrix. This matrix is known as the **zero matrix** and is denoted by \\( \\mathbf{0} \\). The zero matrix has all its entries equal to zero.\n",
    "\n",
    "For an $  n \\times m \\ matrix \\ \\mathbf{A} \\$, the additive identity \\( \\mathbf{0} \\) is an \\( n \\times m \\) matrix where all elements are zero:\n",
    "\n",
    "$ \n",
    "\\mathbf{0} = \\begin{pmatrix}\n",
    "0 & 0 & \\cdots & 0 \\\\\n",
    "0 & 0 & \\cdots & 0 \\\\\n",
    "\\vdots & \\vdots & \\ddots & \\vdots \\\\\n",
    "0 & 0 & \\cdots & 0\n",
    "\\end{pmatrix}\n",
    " $\n",
    "\n",
    "For any matrix \\( \\mathbf{A} \\), the following holds true:\n",
    "\n",
    "$\n",
    "\\mathbf{A} + \\mathbf{0} = \\mathbf{0} + \\mathbf{A} = \\mathbf{A}\n",
    "$\n",
    "### Multiplicative Identity\n",
    "\n",
    "The multiplicative identity in the context of matrices is the matrix that, when multiplied by any matrix, results in the original matrix. This matrix is known as the **identity matrix** and is denoted by \\( \\mathbf{I} \\). The identity matrix is a square matrix (i.e., it has the same number of rows and columns) with ones on the diagonal and zeros elsewhere.\n",
    "\n",
    "For an \\( n \\times n \\) matrix \\( \\mathbf{A} \\), the identity matrix \\( \\mathbf{I}_n \\) is an \\( n \\times n \\) matrix defined as:\n",
    "\n",
    "$\n",
    "\\mathbf{I}_n = \\begin{pmatrix}\n",
    "1 & 0 & 0 & \\cdots & 0 \\\\\n",
    "0 & 1 & 0 & \\cdots & 0 \\\\\n",
    "0 & 0 & 1 & \\cdots & 0 \\\\\n",
    "\\vdots & \\vdots & \\vdots & \\ddots & \\vdots \\\\\n",
    "0 & 0 & 0 & \\cdots & 1\n",
    "\\end{pmatrix}\n",
    "$\n",
    "\n",
    "For any \\( n \\times n \\) matrix \\( \\mathbf{A} \\), the following holds true:\n",
    "\n",
    "$\n",
    "\\mathbf{A} \\cdot \\mathbf{I}_n = \\mathbf{I}_n \\cdot \\mathbf{A} = \\mathbf{A}\n",
    "$\n",
    "In summary:\n",
    "\n",
    "- **Additive Identity** (\\( \\mathbf{0} \\)): A matrix with all zero elements that leaves any matrix unchanged when added to it.\n",
    "- **Multiplicative Identity** (\\( \\mathbf{I}_n \\)): A square matrix with ones on the diagonal and zeros elsewhere that leaves any matrix unchanged when multiplied by it.\n",
    "\n",
    "These identities are fundamental in linear algebra because they behave similarly to the number zero and one in regular arithmetic, providing a basis for many matrix operations and properties.\n",
    "\n",
    "\n",
    "------"
   ]
  },
  {
   "cell_type": "code",
   "execution_count": 2,
   "metadata": {},
   "outputs": [],
   "source": [
    "import numpy as np"
   ]
  },
  {
   "cell_type": "markdown",
   "metadata": {},
   "source": [
    "----\n",
    "\n",
    "Multiplicative Identity AI = IA = A;\n",
    "\n",
    "\n",
    "-----"
   ]
  },
  {
   "cell_type": "code",
   "execution_count": 47,
   "metadata": {},
   "outputs": [
    {
     "name": "stdout",
     "output_type": "stream",
     "text": [
      "AI = IA = A : Multiplicative Identity\n"
     ]
    },
    {
     "data": {
      "text/plain": [
       "2.0"
      ]
     },
     "execution_count": 47,
     "metadata": {},
     "output_type": "execute_result"
    }
   ],
   "source": [
    "c = 5; # c = 5 is just a constant\n",
    "m=abs((np.round(c*(np.random.randn())))) \n",
    "A = np.random.randn(int(m),int(m))\n",
    "\n",
    "I = np.eye(int(m),int(m))  \n",
    "\n",
    "AI = A@I;\n",
    "\n",
    "IA = I@A;\n",
    "\n",
    "\n",
    "if(AI.all()==IA.all() and (AI.all() == A.all() and IA.all() == A.all()) ):\n",
    "   \n",
    "   print(\"AI = IA = A : Multiplicative Identity\")\n",
    "m   "
   ]
  },
  {
   "cell_type": "markdown",
   "metadata": {},
   "source": [
    "----\n",
    "\n",
    "Additive Identity\n",
    "\n",
    "A+0 = A;\n",
    "\n",
    "0 + A = A;\n",
    "\n",
    "----"
   ]
  },
  {
   "cell_type": "code",
   "execution_count": 71,
   "metadata": {},
   "outputs": [
    {
     "name": "stdout",
     "output_type": "stream",
     "text": [
      "A+O = A \n"
     ]
    }
   ],
   "source": [
    "O = np.zeros([int(m),int(m)])\n",
    "\n",
    "if((A+O).all() == A.all()):\n",
    "    print(\"A+O = A \")\n"
   ]
  }
 ],
 "metadata": {
  "kernelspec": {
   "display_name": "base",
   "language": "python",
   "name": "python3"
  },
  "language_info": {
   "codemirror_mode": {
    "name": "ipython",
    "version": 3
   },
   "file_extension": ".py",
   "mimetype": "text/x-python",
   "name": "python",
   "nbconvert_exporter": "python",
   "pygments_lexer": "ipython3",
   "version": "3.11.7"
  }
 },
 "nbformat": 4,
 "nbformat_minor": 2
}
