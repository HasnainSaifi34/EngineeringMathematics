{
 "cells": [
  {
   "cell_type": "markdown",
   "metadata": {},
   "source": [
    "-----\n",
    "\n",
    "# <h1> Converting a non Symetric matrix into a symetric one </h1>\n",
    "\n",
    "-----\n"
   ]
  },
  {
   "cell_type": "code",
   "execution_count": 2,
   "metadata": {},
   "outputs": [],
   "source": [
    "import numpy as np;\n"
   ]
  },
  {
   "cell_type": "markdown",
   "metadata": {},
   "source": [
    "----\n",
    "# Method one only applicable to Square matrix such that m x n and m = n \n",
    "\n",
    "\n",
    "<h2>then:<b>(A+A.T)*0.5 = S </b>\n",
    "\n",
    "\n",
    "-----\n"
   ]
  },
  {
   "cell_type": "markdown",
   "metadata": {},
   "source": [
    "----\n",
    "<h1> Additive method S = (A+A.T)*0.5 = S </h1>\n",
    "\n",
    "\n",
    "Absolutely! Let's take a square matrix A as an example:\n",
    "\n",
    "```\n",
    "A = [[1, 4],  \n",
    "     [2, 3]]\n",
    "```\n",
    "\n",
    "Here, A is a 2x2 square matrix (m = n = 2).\n",
    "\n",
    "1. **Transpose (A.T):**\n",
    "   Taking the transpose of A, we swap rows and columns:\n",
    "\n",
    "   ```\n",
    "   A.T = [[1, 2],  \n",
    "          [4, 3]]\n",
    "   ```\n",
    "\n",
    "2. **Addition (A + A.T):**\n",
    "   Now, let's add A and A.T:\n",
    "\n",
    "   ```\n",
    "   A + A.T = [[1 + 1, 4 + 2],  \n",
    "              [2 + 4, 3 + 3]]\n",
    "\n",
    "           = [[2, 6],  \n",
    "              [6, 6]]\n",
    "   ```\n",
    "\n",
    "3. **Scalar Multiplication (0.5 * (A + A.T)):**\n",
    "   Finally, multiply the resulting sum by 0.5:\n",
    "\n",
    "   ```\n",
    "   0.5 * (A + A.T) = 0.5 * [[2, 6],  \n",
    "                             [6, 6]]\n",
    "\n",
    "                    = [[1, 3],  \n",
    "                       [3, 3]]\n",
    "   ```\n",
    "\n",
    "As you can see, the resulting matrix is symmetric. The upper triangular elements (1 and 3) are mirrored in the lower triangular positions. This is because adding A and A.T doubles the upper triangular elements, and dividing by 2 balances it out.\n",
    "\n",
    "This demonstrates how the formula (A + A.T) * 0.5, when applied to a square matrix A, creates a new square matrix that is symmetric. \n",
    "\n",
    "----\n",
    "\n"
   ]
  },
  {
   "cell_type": "code",
   "execution_count": 30,
   "metadata": {},
   "outputs": [
    {
     "name": "stdout",
     "output_type": "stream",
     "text": [
      "S is a Symetric matrix :\n",
      "$n\n",
      "[[-0.46100386 -0.18717632 -0.16637733 -1.84262796]\n",
      " [-0.18717632 -0.06363968 -0.3491819   0.31619895]\n",
      " [-0.16637733 -0.3491819  -1.06252383  0.08833338]\n",
      " [-1.84262796  0.31619895  0.08833338  0.70249463]]\n"
     ]
    }
   ],
   "source": [
    "n = 4;\n",
    "\n",
    "\n",
    "A = np.array(np.random.randn(n,n)) # Square Matrix\n",
    "\n",
    "\n",
    "S = (A+ A.T)*0.5   # S is a symetric matrix\n",
    "\n",
    "\n",
    "print(\"S is a Symetric matrix :\")\n",
    "print(\"$n\")\n",
    "\n",
    "print(S)\n"
   ]
  },
  {
   "cell_type": "markdown",
   "metadata": {},
   "source": [
    "-----\n",
    "\n",
    "<h1> Multiplicative Identity Applicable for all type of matrices square non square </h1>\n",
    "\n",
    "----"
   ]
  },
  {
   "cell_type": "markdown",
   "metadata": {},
   "source": [
    "To explain why $( S = AA^T )$ and $( S = A^TA )$ are symmetric matrices and why $( AA^T $neq A^TA )$ in general, let's delve into the algebra and an example.</br>\n",
    "\n",
    " \n",
    "### Symmetric Matrix Definition\n",
    "A matrix $( S $) is symmetric if it is equal to its transpose, i.e., $( S^T = S )$.\n",
    "\n",
    "### Symmetry of $( S = AA^T $)\n",
    "Let  [$( A $) be an arbitrary $( m times n )$ matrix. Then $( S = AA^T ) $ is an $( m $times m $) $] matrix.\n",
    "\n",
    "To prove that $( S )$ is symmetric:\n",
    "$[ S = AA^T ]$\n",
    "Take the transpose of $( S $):\n",
    "$[ S^T = (AA^T)^T ]$\n",
    "Using the property of the transpose of a product of matrices:\n",
    "$[ (AA^T)^T = (A^T)^T A^T $]\n",
    "Since the transpose of a transpose of a matrix is the matrix itself:\n",
    "$[ (A^T)^T = A $]\n",
    "Thus:\n",
    "$[ (AA^T)^T = A A^T $]\n",
    "Hence:\n",
    "$[ S^T = S $]\n",
    "Therefore, $( S = AA^T $) is symmetric.\n",
    "\n",
    "### Symmetry of $( S = A^TA $)\n",
    "Let $( A $) be an arbitrary $( m times n )$ matrix. Then $( S = A^TA $) is an $( n $times n $) matrix.\n",
    "\n",
    "\n",
    "To prove that $( S )$ is symmetric:\n",
    "$[ S = A^TA ] $\n",
    "Take the transpose of $( S )$:\n",
    "$[ S^T = (A^TA)^T ]$\n",
    "Using the property of the transpose of a product of matrices:\n",
    "$[ (A^TA)^T = (A^T)^T A^T ]$\n",
    "Since the transpose of a transpose of a matrix is the matrix itself:\n",
    "$[ (A^T)^T = A ]$\n",
    "Thus:\n",
    "$[ (A^TA)^T = A^T A ]$\n",
    "Hence:\n",
    "$[ S^T = S ]$\n",
    "Therefore, $( S = A^TA )$ is symmetric.\n",
    "\n",
    "### Why $( AA^T \\neq A^TA )$ in General\n",
    "The matrices \\( AA^T \\) and \\( A^TA \\) are generally not equal because they are of different sizes and the entries in these matrices will not correspond in a general case.\n",
    "\n",
    "For example, let:\n",
    "$ A = \\begin{pmatrix} 1 & 2 \\\\ 3 & 4 \\\\ 5 & 6 \\end{pmatrix} $\n",
    "\n",
    "Calculate \\( AA^T \\) and \\( A^TA \\):\n",
    "\n",
    "1. $( AA^T )$:\n",
    "$ AA^T = \\begin{pmatrix} 1 & 2 \\\\ 3 & 4 \\\\ 5 & 6 \\end{pmatrix} \\begin{pmatrix} 1 & 3 & 5 \\\\ 2 & 4 & 6 \\end{pmatrix} = \\begin{pmatrix} 1 \\cdot 1 + 2 \\cdot 2 & 1 \\cdot 3 + 2 \\cdot 4 & 1 \\cdot 5 + 2 \\cdot 6 \\\\ 3 \\cdot 1 + 4 \\cdot 2 & 3 \\cdot 3 + 4 \\cdot 4 & 3 \\cdot 5 + 4 \\cdot 6 \\\\ 5 \\cdot 1 + 6 \\cdot 2 & 5 \\cdot 3 + 6 \\cdot 4 & 5 \\cdot 5 + 6 \\cdot 6 \\end{pmatrix} $\n",
    "$ = \\begin{pmatrix} 1 + 4 & 3 + 8 & 5 + 12 \\\\ 3 + 8 & 9 + 16 & 15 + 24 \\\\ 5 + 12 & 15 + 24 & 25 + 36 \\end{pmatrix} = \\begin{pmatrix} 5 & 11 & 17 \\\\ 11 & 25 & 39 \\\\ 17 & 39 & 61 \\end{pmatrix} $\n",
    "\n",
    "2. $( A^TA )$:\n",
    "$ A^TA = \\begin{pmatrix} 1 & 3 & 5 \\\\ 2 & 4 & 6 \\end{pmatrix} \\begin{pmatrix} 1 & 2 \\\\ 3 & 4 \\\\ 5 & 6 \\end{pmatrix} = \\begin{pmatrix} 1 \\cdot 1 + 3 \\cdot 3 + 5 \\cdot 5 & 1 \\cdot 2 + 3 \\cdot 4 + 5 \\cdot 6 \\\\ 2 \\cdot 1 + 4 \\cdot 3 + 6 \\cdot 5 & 2 \\cdot 2 + 4 \\cdot 4 + 6 \\cdot 6 \\end{pmatrix} $\n",
    "$ = \\begin{pmatrix} 1 + 9 + 25 & 2 + 12 + 30 \\\\ 2 + 12 + 30 & 4 + 16 + 36 \\end{pmatrix} = \\begin{pmatrix} 35 & 44 \\\\ 44 & 56 \\end{pmatrix} $\n",
    "\n",
    "Comparing the results:\n",
    "$ AA^T = \\begin{pmatrix} 5 & 11 & 17 \\\\ 11 & 25 & 39 \\\\ 17 & 39 & 61 \\end{pmatrix} $\n",
    "$ A^TA = \\begin{pmatrix} 35 & 44 \\\\ 44 & 56 \\end{pmatrix} $\n",
    "\n",
    "Clearly,$( AA^T )$ and $( A^TA )$ are different in size and content, illustrating that in general, $( AA^T \\neq A^TA )$.\n",
    "\n",
    "This example demonstrates that while both $( S = AA^T )$ and $( S = A^TA )$ are symmetric matrices, they are not equal to each other except in specific cases where the dimensions of $( A )$ make them identical.\n"
   ]
  },
  {
   "cell_type": "code",
   "execution_count": 37,
   "metadata": {},
   "outputs": [
    {
     "name": "stdout",
     "output_type": "stream",
     "text": [
      "AA.T = S :\n",
      "[[ 2.22934221  0.42655181 -0.23723442]\n",
      " [ 0.42655181  9.31379954 -2.43730295]\n",
      " [-0.23723442 -2.43730295  2.10730601]]\n",
      "\n",
      "\n",
      "A.TA = S :\n",
      "[[ 2.77539005 -0.54421844  2.59397679]\n",
      " [-0.54421844  1.72965578 -0.25715514]\n",
      " [ 2.59397679 -0.25715514  9.14540194]]\n"
     ]
    }
   ],
   "source": [
    "def rand(c):\n",
    "    value = int(abs(np.round(c*np.random.randn())))\n",
    "    return value;\n",
    "\n",
    "c = 2\n",
    "(m,n)=(rand(c)+1,rand(c)+1)\n",
    "\n",
    "\n",
    "A = np.random.randn(m,n)\n",
    "\n",
    "\n",
    "S1 = A @ A.T;\n",
    "\n",
    "S2 = A.T @ A;\n",
    "\n",
    "print(\"AA.T = S :\")\n",
    "print(S1)\n",
    "print(\"\\n\")\n",
    "print(\"A.TA = S :\")\n",
    "print(S2)"
   ]
  }
 ],
 "metadata": {
  "kernelspec": {
   "display_name": "base",
   "language": "python",
   "name": "python3"
  },
  "language_info": {
   "codemirror_mode": {
    "name": "ipython",
    "version": 3
   },
   "file_extension": ".py",
   "mimetype": "text/x-python",
   "name": "python",
   "nbconvert_exporter": "python",
   "pygments_lexer": "ipython3",
   "version": "3.11.7"
  }
 },
 "nbformat": 4,
 "nbformat_minor": 2
}
