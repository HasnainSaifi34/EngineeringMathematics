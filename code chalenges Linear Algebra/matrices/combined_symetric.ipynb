{
 "cells": [
  {
   "cell_type": "markdown",
   "metadata": {},
   "source": [
    "------\n",
    "# Combined Symetric Matrices\n",
    "\n",
    "\n",
    "-----"
   ]
  },
  {
   "cell_type": "markdown",
   "metadata": {},
   "source": [
    "----\n",
    "\n",
    "<h4> Create 2 Symtetic Matrix </h4>\n",
    "\n",
    "<h4> Compute Sum , Mat_mul , hadamard_mat_mul </h4>\n",
    "\n",
    "<h4> See if the result is also symetric </h4>\n",
    "\n",
    "----"
   ]
  },
  {
   "cell_type": "code",
   "execution_count": 2,
   "metadata": {},
   "outputs": [],
   "source": [
    "import numpy as np"
   ]
  },
  {
   "cell_type": "code",
   "execution_count": 3,
   "metadata": {},
   "outputs": [
    {
     "name": "stdout",
     "output_type": "stream",
     "text": [
      "S1 + S2 \n",
      "[[ 4.85005002  0.89801585 -0.97443783  3.57077908]\n",
      " [ 0.89801585  4.20569337 -1.77665944  2.84425917]\n",
      " [-0.97443783 -1.77665944  7.27305708 -0.8478536 ]\n",
      " [ 3.57077908  2.84425917 -0.8478536  10.30255162]]\n",
      "\n",
      "\n",
      "S1-S2 \n",
      "[[-2.19959155 -0.41502158 -1.28121375 -5.805393  ]\n",
      " [-0.41502158 -3.16645575  3.43508489 -3.77317642]\n",
      " [-1.28121375  3.43508489  3.09948337  2.92553453]\n",
      " [-5.805393   -3.77317642  2.92553453 -6.76781271]]\n",
      "\n",
      "\n",
      "Hadamard product S1*S2 \n",
      "[[ 4.67119556  0.15854739 -0.17299489 -5.23803115]\n",
      " [ 0.15854739  1.91535367 -2.16082236 -1.53676252]\n",
      " [-0.17299489 -2.16082236 10.82264053 -1.95997414]\n",
      " [-5.23803115 -1.53676252 -1.95997414 15.08482027]]\n",
      "\n",
      "\n",
      "General Matrix Multiplication S1 @ S2\n",
      "[[-0.58128309  1.00233067 -0.67155209 -0.39672164]\n",
      " [-0.85785715 -1.62368382  1.28966412 -2.67727835]\n",
      " [ 2.23469477 -7.76142608  6.52884913 -3.46192606]\n",
      " [ 4.20169312  0.69507927 -0.12770847  6.35005246]]\n",
      "\n",
      "\n"
     ]
    }
   ],
   "source": [
    "def rand():\n",
    "    return int(np.abs(np.round((5*np.random.randn())+2)))\n",
    "\n",
    "\n",
    "#(m,n)=(rand(),rand())\n",
    "\n",
    "\n",
    "(m,n)=(4,4)\n",
    "\n",
    "\n",
    "\n",
    "M1 = np.random.randn(m,n)\n",
    "M2 = np.random.randn(m,n)\n",
    "\n",
    "\n",
    "\n",
    "S1 = M1.T @ M1\n",
    "\n",
    "S2 = M2.T @ M2\n",
    "\n",
    "\n",
    "Add = S1+S2;\n",
    "\n",
    "SUB = S1 - S2;\n",
    "\n",
    "mat_mul = S1 @ S2 ;\n",
    "\n",
    "mat_mul_h = S1*S2;\n",
    "\n",
    "\n",
    "print(\"S1 + S2 \")\n",
    "print(Add)\n",
    "\n",
    "print(\"\\n\")\n",
    "\n",
    "print(\"S1-S2 \")\n",
    "print(SUB)\n",
    "\n",
    "print(\"\\n\")\n",
    "\n",
    "print(\"Hadamard product S1*S2 \")\n",
    "print(mat_mul_h)\n",
    "\n",
    "print(\"\\n\")\n",
    "\n",
    "print(\"General Matrix Multiplication S1 @ S2\")\n",
    "print(mat_mul)\n",
    "print(\"\\n\")\n",
    "\n",
    "\n",
    "\n",
    "\n"
   ]
  },
  {
   "cell_type": "code",
   "execution_count": 4,
   "metadata": {},
   "outputs": [
    {
     "name": "stdout",
     "output_type": "stream",
     "text": [
      "due to its non - elemental wise approch general mat mul never results in a symetric matrix  S1@S2\n",
      "[[ 0.          1.86018781 -2.90624686 -4.59841476]\n",
      " [-1.86018781  0.          9.05109019 -3.37235762]\n",
      " [ 2.90624686 -9.05109019  0.         -3.33421759]\n",
      " [ 4.59841476  3.37235762  3.33421759  0.        ]]\n"
     ]
    }
   ],
   "source": [
    "print(\"due to its non - elemental wise approch general mat mul never results in a symetric matrix  S1@S2\")\n",
    "print(mat_mul-mat_mul.T)"
   ]
  },
  {
   "cell_type": "code",
   "execution_count": 5,
   "metadata": {},
   "outputs": [
    {
     "name": "stdout",
     "output_type": "stream",
     "text": [
      "addition and substraction of a symetric matrix always resluts in a symetric one \n",
      "S1+S2\n",
      "[[0. 0. 0. 0.]\n",
      " [0. 0. 0. 0.]\n",
      " [0. 0. 0. 0.]\n",
      " [0. 0. 0. 0.]]\n",
      "S1-S2\n",
      "[[0. 0. 0. 0.]\n",
      " [0. 0. 0. 0.]\n",
      " [0. 0. 0. 0.]\n",
      " [0. 0. 0. 0.]]\n",
      "\n",
      "\n",
      "Hadamard Multiplication with 2 symetric matrices always result in a symetric matrix\n",
      "[[0. 0. 0. 0.]\n",
      " [0. 0. 0. 0.]\n",
      " [0. 0. 0. 0.]\n",
      " [0. 0. 0. 0.]]\n"
     ]
    }
   ],
   "source": [
    "print(\"addition and substraction of a symetric matrix always resluts in a symetric one \")\n",
    "print(\"S1+S2\")\n",
    "print(Add-Add.T)\n",
    "print(\"S1-S2\")\n",
    "print(SUB-SUB.T)\n",
    "print(\"\\n\")\n",
    "print(\"Hadamard Multiplication with 2 symetric matrices always result in a symetric matrix\")\n",
    "print(mat_mul_h-mat_mul_h.T)"
   ]
  },
  {
   "cell_type": "markdown",
   "metadata": {},
   "source": [
    "-----\n",
    "To understand why the matrix multiplication of two symmetric matrices is generally not symmetric, let's start by reviewing the properties of symmetric matrices and the operations mentioned.\n",
    "\n",
    "### Symmetric Matrices\n",
    "\n",
    "A matrix $ A $ is symmetric if $ A^T = A $, where $ A^T $ denotes the transpose of $ A $.\n",
    "\n",
    "### Addition and Subtraction\n",
    "\n",
    "If $ A $ and $ B $ are symmetric matrices, then their sum and difference are also symmetric:\n",
    "$ (A + B)^T = A^T + B^T = A + B $\n",
    "$ (A - B)^T = A^T - B^T = A - B $\n",
    "\n",
    "### Hadamard (Element-wise) Multiplication\n",
    "\n",
    "For the Hadamard product (element-wise multiplication), if \\( A \\) and \\( B \\) are symmetric:\n",
    "$ (A \\circ B)_{ij} = A_{ij} B_{ij} $\n",
    "Since each element \\( (i,j) \\) corresponds directly to \\( (j,i) \\), the Hadamard product of two symmetric matrices is also symmetric:\n",
    "$ (A \\circ B)^T = A^T \\circ B^T = A \\circ B $\n",
    "### Matrix Multiplication\n",
    "\n",
    "Matrix multiplication, however, behaves differently. If $ A $ and $ B $ are symmetric, their product $ AB $ is generally not symmetric. To see why, consider the definition of the transpose of a product of matrices:\n",
    "\n",
    "$ (AB)^T = B^T A^T  $\n",
    "\n",
    "For $ AB $ to be symmetric, $ (AB)^T $ must equal $ AB $:\n",
    "$ B^T A^T = AB $\n",
    "\n",
    "Since $ A $ and $ B $ are symmetric, we know $ A^T = A $ and $ B^T = B $, so:\n",
    "\n",
    "$ B A = AB $\n",
    "\n",
    "For this to be true, $ A $ and $ B $ must commute, i.e., $ AB = BA $. However, in general, matrices do not commute. Thus,$ AB $ is not symmetric unless $ A $ and $ B  $ commute, which is a special case rather than the general rule.\n",
    "\n",
    "### Example to Illustrate\n",
    "\n",
    "Let's consider two symmetric matrices $ A $ and $ B $:\n",
    "\n",
    "$ A = \\begin{pmatrix} 1 & 2 \\\\ 2 & 3 \\end{pmatrix}, \\quad B = \\begin{pmatrix} 4 & 5 \\\\ 5 & 6 \\end{pmatrix} $\n",
    "\n",
    "Both $ A $ and $ B $ are symmetric:\n",
    "\n",
    "$ A^T = A, \\quad B^T = B $\n",
    "\n",
    "Now, let's compute $ AB $:\n",
    "\n",
    "$ AB = \\begin{pmatrix} 1 & 2 \\\\ 2 & 3 \\end{pmatrix} \\begin{pmatrix} 4 & 5 \\\\ 5 & 6 \\end{pmatrix} = \\begin{pmatrix} 1 \\cdot 4 + 2 \\cdot 5 & 1 \\cdot 5 + 2 \\cdot 6 \\\\ 2 \\cdot 4 + 3 \\cdot 5 & 2 \\cdot 5 + 3 \\cdot 6 \\end{pmatrix} = \\begin{pmatrix} 14 & 17 \\\\ 23 & 28 \\end{pmatrix} $\n",
    "\n",
    "Now compute the transpose of $ AB $:\n",
    "$ (AB)^T = \\begin{pmatrix} 14 & 17 \\\\ 23 & 28 \\end{pmatrix}^T = \\begin{pmatrix} 14 & 23 \\\\ 17 & 28 \\end{pmatrix} $\n",
    "\n",
    "Clearly,$ AB \\neq (AB)^T $. Therefore, $ AB $ is not symmetric.\n",
    "\n",
    "### Conclusion\n",
    "\n",
    "The matrix multiplication of two symmetric matrices results in a symmetric matrix only when the two matrices commute. This condition is rare in practice, which is why the product of two symmetric matrices is generally not symmetric. In contrast, addition, subtraction, and Hadamard multiplication of symmetric matrices always yield symmetric matrices due to the element-wise nature of these operations and the properties of transposition.\n",
    "\n",
    "\n",
    "\n",
    "-----"
   ]
  },
  {
   "cell_type": "markdown",
   "metadata": {},
   "source": [
    "____\n",
    "\n",
    "# NOTE a multiplication of symetric matrix can be a syemtric matrix when all the diagonal elememts in diagonals are constant or same\n",
    "\n",
    "<b> for eg diag1 ={2,2,2}  diag2 = {5,5,5}  soo this combination will result into a symetric matrix always </b>\n",
    "\n",
    "<h3> <i><b> This can have acceptions and it is not General in nature</i></b></h3>\n",
    "\n",
    "\n",
    "____"
   ]
  },
  {
   "cell_type": "code",
   "execution_count": 6,
   "metadata": {},
   "outputs": [
    {
     "name": "stdout",
     "output_type": "stream",
     "text": [
      "[[0 0 0 0]\n",
      " [0 0 0 0]\n",
      " [0 0 0 0]\n",
      " [0 0 0 0]]\n"
     ]
    }
   ],
   "source": [
    "(a,b,c,d) = (5,6,8,10)\n",
    "M1 = np.array([\n",
    "    # add a constant diagonal matrix\n",
    "    [a, 1, 1, b],\n",
    "    [1, a, b, 1],\n",
    "    [1, b, a, 1],\n",
    "    [b, 1, 1, a]\n",
    "])\n",
    "\n",
    "M2 = np.array([\n",
    "    # add a constant diagonal matrix\n",
    "    [d, 1, 1, c],\n",
    "    [1, d, c, 1],\n",
    "    [1, c, d, 1],\n",
    "    [c, 1, 1, d]\n",
    "])\n",
    "\n",
    "\n",
    "M3 = M1 @ M2\n",
    "\n",
    "print(M3-M3.T)"
   ]
  }
 ],
 "metadata": {
  "kernelspec": {
   "display_name": "base",
   "language": "python",
   "name": "python3"
  },
  "language_info": {
   "codemirror_mode": {
    "name": "ipython",
    "version": 3
   },
   "file_extension": ".py",
   "mimetype": "text/x-python",
   "name": "python",
   "nbconvert_exporter": "python",
   "pygments_lexer": "ipython3",
   "version": "3.11.7"
  }
 },
 "nbformat": 4,
 "nbformat_minor": 2
}
