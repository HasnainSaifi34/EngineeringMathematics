{
 "cells": [
  {
   "cell_type": "markdown",
   "metadata": {},
   "source": [
    "----\n",
    "\n",
    "# Trace: Linearity of trace\n",
    "\n",
    "\n",
    "<h2>tr(A+B)=tr(A)+tr(B) ? </h2>\n",
    "\n",
    "-----"
   ]
  },
  {
   "cell_type": "code",
   "execution_count": 1,
   "metadata": {},
   "outputs": [],
   "source": [
    "import numpy as np"
   ]
  },
  {
   "cell_type": "code",
   "execution_count": 9,
   "metadata": {},
   "outputs": [
    {
     "name": "stdout",
     "output_type": "stream",
     "text": [
      "tr(A+B) : 9.0\n",
      "\n",
      "\n",
      "tr(A)+tr(B) : 9.0\n"
     ]
    }
   ],
   "source": [
    "M1 = np.round(5*np.random.randn(5,5))\n",
    "\n",
    "M2 = np.round(5*np.random.randn(5,5))\n",
    "\n",
    "\n",
    "tr1 = np.trace(M1)\n",
    "tr2 = np.trace(M2)\n",
    "\n",
    "M1_sum_M2 = M1+M2;\n",
    "TR_M1_sum_M2 = np.trace(M1_sum_M2)\n",
    "\n",
    "\n",
    "print(\"tr(A+B) :\",TR_M1_sum_M2)\n",
    "print(\"\\n\")\n",
    "print(\"tr(A)+tr(B) :\",tr1+tr2)\n"
   ]
  },
  {
   "cell_type": "markdown",
   "metadata": {},
   "source": [
    "----\n",
    "\n",
    "<h2> Determine: l*tr(A)=tr(A*l)</h2>\n",
    "<b>Note: l is a scalar </b>\n",
    "\n",
    "-----"
   ]
  },
  {
   "cell_type": "code",
   "execution_count": 65,
   "metadata": {},
   "outputs": [
    {
     "name": "stdout",
     "output_type": "stream",
     "text": [
      "-16.0\n",
      "-16.0\n"
     ]
    }
   ],
   "source": [
    "l = np.round(5*np.random.randn())\n",
    "\n",
    "lM1 = l*M1; # l*A\n",
    "l_trA = l*tr1; # l*tr(A)\n",
    "\n",
    "tr_A_l = np.trace(lM1) # tr(l*A)\n",
    "\n",
    "print(l_trA)\n",
    "print(tr_A_l)"
   ]
  }
 ],
 "metadata": {
  "kernelspec": {
   "display_name": "base",
   "language": "python",
   "name": "python3"
  },
  "language_info": {
   "codemirror_mode": {
    "name": "ipython",
    "version": 3
   },
   "file_extension": ".py",
   "mimetype": "text/x-python",
   "name": "python",
   "nbconvert_exporter": "python",
   "pygments_lexer": "ipython3",
   "version": "3.11.7"
  }
 },
 "nbformat": 4,
 "nbformat_minor": 2
}
