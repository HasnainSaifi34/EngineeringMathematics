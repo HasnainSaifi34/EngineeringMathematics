{
 "cells": [
  {
   "cell_type": "markdown",
   "metadata": {},
   "source": [
    "----\n",
    "\n",
    "# is s(A+B) = s(A)+s(B) scalar matrix multiplication\n",
    "\n",
    "----"
   ]
  },
  {
   "cell_type": "code",
   "execution_count": 2,
   "metadata": {},
   "outputs": [],
   "source": [
    "import numpy as np;"
   ]
  },
  {
   "cell_type": "code",
   "execution_count": 3,
   "metadata": {},
   "outputs": [
    {
     "name": "stdout",
     "output_type": "stream",
     "text": [
      "s*(A+B) = : [[ 0.00018408  0.00998255  0.01129611  0.01463028  0.00695587]\n",
      " [-0.0028276   0.00778644 -0.00766068  0.01327762  0.00100749]\n",
      " [ 0.00250225  0.0130641   0.00521849 -0.00765015  0.00114554]\n",
      " [ 0.01267021 -0.01427182  0.00231133  0.00145536  0.0021115 ]\n",
      " [ 0.00705425 -0.0078438   0.01257546 -0.01228467 -0.01207574]]\n",
      "\n",
      "\n",
      "s*(A)+s*(B): =  [[ 0.00018408  0.00998255  0.01129611  0.01463028  0.00695587]\n",
      " [-0.0028276   0.00778644 -0.00766068  0.01327762  0.00100749]\n",
      " [ 0.00250225  0.0130641   0.00521849 -0.00765015  0.00114554]\n",
      " [ 0.01267021 -0.01427182  0.00231133  0.00145536  0.0021115 ]\n",
      " [ 0.00705425 -0.0078438   0.01257546 -0.01228467 -0.01207574]]\n",
      "Shift1 - Shift2 : [[ 3.25260652e-19  0.00000000e+00  0.00000000e+00  1.73472348e-18\n",
      "   0.00000000e+00]\n",
      " [-4.33680869e-19 -8.67361738e-19  8.67361738e-19  0.00000000e+00\n",
      "  -2.16840434e-19]\n",
      " [ 0.00000000e+00  0.00000000e+00 -8.67361738e-19  0.00000000e+00\n",
      "  -4.33680869e-19]\n",
      " [ 0.00000000e+00  0.00000000e+00  0.00000000e+00  0.00000000e+00\n",
      "   0.00000000e+00]\n",
      " [ 8.67361738e-19  0.00000000e+00  0.00000000e+00  0.00000000e+00\n",
      "   0.00000000e+00]]\n"
     ]
    }
   ],
   "source": [
    "m = 5\n",
    "n = 5\n",
    "s = np.random.randn()\n",
    "A = np.random.randn(m,n)\n",
    "\n",
    "B = np.random.randn(m,n)\n",
    "\n",
    "A_sum_B = A + B ;\n",
    "\n",
    "Shift1 = s*A_sum_B;\n",
    "Shift2 = (s*A+s*B)\n",
    "print(\"s*(A+B) = :\",Shift1)\n",
    "\n",
    "print(\"\\n\")\n",
    "\n",
    "print(\"s*(A)+s*(B): = \",Shift2)\n",
    "\n",
    "print(\"Shift1 - Shift2 :\",Shift1-Shift2) # these are all zeros\n",
    "\n"
   ]
  },
  {
   "cell_type": "markdown",
   "metadata": {},
   "source": [
    "----\n",
    "\n",
    "<h2> Transposing the matrix in numpy </h2>\n",
    "\n",
    "-----\n"
   ]
  },
  {
   "cell_type": "code",
   "execution_count": 4,
   "metadata": {},
   "outputs": [
    {
     "name": "stdout",
     "output_type": "stream",
     "text": [
      "A : \n",
      "[[1 2 3]\n",
      " [2 3 4]]\n",
      "\n",
      "\n",
      "A^T :\n",
      "[[1 2]\n",
      " [2 3]\n",
      " [3 4]]\n"
     ]
    }
   ],
   "source": [
    "M = np.array([\n",
    "    [1,2,3],\n",
    "    [2,3,4]\n",
    "])\n",
    "print(\"A : \")\n",
    "print(M)\n",
    "print(\"\\n\")\n",
    "print(\"A^T :\")\n",
    "print(M.T)"
   ]
  },
  {
   "cell_type": "markdown",
   "metadata": {},
   "source": [
    "----\n",
    "<h2> Transposing a complex matrix </h2>\n",
    "\n",
    "----"
   ]
  },
  {
   "cell_type": "code",
   "execution_count": 5,
   "metadata": {},
   "outputs": [
    {
     "name": "stdout",
     "output_type": "stream",
     "text": [
      "non hermitian transpose\n",
      "[1.+4.j 3.+0.j 4.+2.j]\n",
      "\n",
      "\n",
      "Hermitian Transpose\n"
     ]
    },
    {
     "data": {
      "text/plain": [
       "matrix([[1.-4.j],\n",
       "        [3.-0.j],\n",
       "        [4.-2.j]])"
      ]
     },
     "execution_count": 5,
     "metadata": {},
     "output_type": "execute_result"
    }
   ],
   "source": [
    "C = np.array([1+4j,3,4+2j])\n",
    "print(\"non hermitian transpose\")\n",
    "print(np.transpose(C)) # not the hermitian transpose\n",
    "print(\"\\n\")\n",
    "print(\"Hermitian Transpose\")\n",
    "np.matrix(C).H # Hermitian transpose"
   ]
  },
  {
   "cell_type": "code",
   "execution_count": 6,
   "metadata": {},
   "outputs": [
    {
     "data": {
      "text/plain": [
       "array([[ 6., -3.,  1.],\n",
       "       [-4., -1.,  4.],\n",
       "       [-6.,  3., -7.]])"
      ]
     },
     "execution_count": 6,
     "metadata": {},
     "output_type": "execute_result"
    }
   ],
   "source": [
    "(m,n)=(3,3)\n",
    "A = np.round(5*np.random.randn(m,n))\n",
    "A"
   ]
  },
  {
   "cell_type": "code",
   "execution_count": 7,
   "metadata": {},
   "outputs": [
    {
     "name": "stdout",
     "output_type": "stream",
     "text": [
      "[ 6. -4. -6.]\n",
      "[-3. -1.  3.]\n"
     ]
    }
   ],
   "source": [
    "#Select columns \n",
    "print(A[:,0])\n",
    "print(A[:,1])\n"
   ]
  },
  {
   "cell_type": "code",
   "execution_count": 8,
   "metadata": {},
   "outputs": [
    {
     "name": "stdout",
     "output_type": "stream",
     "text": [
      "[ 6. -3.  1.]\n",
      "[-4. -1.  4.]\n"
     ]
    }
   ],
   "source": [
    "# select rows\n",
    "print(A[0,:])\n",
    "print(A[1,:])\n"
   ]
  }
 ],
 "metadata": {
  "kernelspec": {
   "display_name": "base",
   "language": "python",
   "name": "python3"
  },
  "language_info": {
   "codemirror_mode": {
    "name": "ipython",
    "version": 3
   },
   "file_extension": ".py",
   "mimetype": "text/x-python",
   "name": "python",
   "nbconvert_exporter": "python",
   "pygments_lexer": "ipython3",
   "version": "3.11.7"
  }
 },
 "nbformat": 4,
 "nbformat_minor": 2
}
