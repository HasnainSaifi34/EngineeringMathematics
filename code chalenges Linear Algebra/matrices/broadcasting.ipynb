{
 "cells": [
  {
   "cell_type": "markdown",
   "metadata": {},
   "source": [
    "----\n",
    "# Broadcasting matrix vector arithematic \n",
    "\n",
    "----"
   ]
  },
  {
   "cell_type": "markdown",
   "metadata": {},
   "source": [
    "In the context of machine learning, \"broadcasting\" refers to a method used in array-based computing (such as with NumPy arrays in Python) to perform operations on arrays of different shapes and sizes in a way that avoids explicitly making copies of data. This concept is particularly useful for efficiently handling element-wise operations on arrays without needing them to be the same size.\n",
    "\n",
    "Here's how broadcasting works:\n",
    "\n",
    "1. **Array Alignment**: When performing operations (like addition, subtraction, multiplication, etc.) on two arrays, NumPy aligns the shapes of the arrays by adding dimensions of size 1 to the smaller array or arrays, as needed, so that they match in rank (number of dimensions).\n",
    "\n",
    "2. **Shape Compatibility**: For two arrays to be broadcast together, they must be compatible in all dimensions. Compatibility means that for each dimension, the dimension sizes must either be the same or one of them must be 1.\n",
    "\n",
    "3. **Expansion**: If a dimension size is 1 in one array and a larger number in the other, the smaller dimension (the one with size 1) is virtually expanded to match the larger dimension. This doesn't involve copying the data, but rather creating a new view of the original array that can be used in the operation.\n",
    "\n",
    "### Example\n",
    "\n",
    "Consider two arrays:\n",
    "\n",
    "- `A` is a 2x3 array:\n",
    "  ```python\n",
    "  A = np.array([[1, 2, 3],\n",
    "                [4, 5, 6]])\n",
    "  ```\n",
    "\n",
    "- `B` is a 1x3 array:\n",
    "  ```python\n",
    "  B = np.array([10, 20, 30])\n",
    "  ```\n",
    "\n",
    "When you add these arrays together, broadcasting occurs:\n",
    "\n",
    "```python\n",
    "C = A + B\n",
    "```\n",
    "\n",
    "Here's the step-by-step process:\n",
    "\n",
    "1. **Shape Alignment**: The shape of `A` is (2, 3) and the shape of `B` is (1, 3).\n",
    "2. **Expand Dimensions**: NumPy treats `B` as if it were:\n",
    "   ```python\n",
    "   B = np.array([[10, 20, 30],\n",
    "                 [10, 20, 30]])\n",
    "   ```\n",
    "   This virtual expansion aligns the shapes without physically copying `B`.\n",
    "\n",
    "3. **Element-wise Operation**: The addition is performed element-wise:\n",
    "   ```python\n",
    "   C = np.array([[1 + 10, 2 + 20, 3 + 30],\n",
    "                 [4 + 10, 5 + 20, 6 + 30]])\n",
    "   ```\n",
    "   Resulting in:\n",
    "   ```python\n",
    "   C = np.array([[11, 22, 33],\n",
    "                 [14, 25, 36]])\n",
    "   ```\n",
    "\n",
    "### Benefits of Broadcasting\n",
    "\n",
    "- **Efficiency**: Broadcasting avoids the need to create multiple copies of data, thus saving memory and improving computational efficiency.\n",
    "- **Code Simplicity**: It allows for concise and readable code. Complex operations can be written in a straightforward manner.\n",
    "\n",
    "### Broadcasting in Machine Learning\n",
    "\n",
    "In machine learning, broadcasting is frequently used in the following contexts:\n",
    "\n",
    "- **Matrix Operations**: For adjusting weights and biases in neural networks.\n",
    "- **Normalization**: Applying statistical normalization or standardization across batches of data.\n",
    "- **Element-wise Functions**: Applying activation functions, loss computations, and other element-wise transformations efficiently.\n",
    "\n",
    "Understanding broadcasting is crucial for optimizing and writing efficient numerical and machine learning code, especially when dealing with large datasets and complex model computations."
   ]
  },
  {
   "cell_type": "code",
   "execution_count": 1,
   "metadata": {},
   "outputs": [],
   "source": [
    "import numpy as np"
   ]
  },
  {
   "cell_type": "code",
   "execution_count": 33,
   "metadata": {},
   "outputs": [
    {
     "data": {
      "text/plain": [
       "array([[ 6.79546394,  2.06680353,  5.21288769],\n",
       "       [-6.20453606, -1.93319647, -2.78711231],\n",
       "       [-6.20453606, -4.93319647, -3.78711231]])"
      ]
     },
     "execution_count": 33,
     "metadata": {},
     "output_type": "execute_result"
    }
   ],
   "source": [
    "(m,n)=(3,3)\n",
    "M = np.round(5*np.random.randn(m,n))\n",
    "\n",
    "v= np.random.randn(m)\n",
    "\n",
    "M+v "
   ]
  }
 ],
 "metadata": {
  "kernelspec": {
   "display_name": "base",
   "language": "python",
   "name": "python3"
  },
  "language_info": {
   "codemirror_mode": {
    "name": "ipython",
    "version": 3
   },
   "file_extension": ".py",
   "mimetype": "text/x-python",
   "name": "python",
   "nbconvert_exporter": "python",
   "pygments_lexer": "ipython3",
   "version": "3.11.7"
  }
 },
 "nbformat": 4,
 "nbformat_minor": 2
}
