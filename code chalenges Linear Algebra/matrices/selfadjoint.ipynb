{
 "cells": [
  {
   "cell_type": "markdown",
   "metadata": {},
   "source": [
    "-------------\n",
    "\n",
    "## Condition and Proof for self adjoint operator\n",
    "\n",
    "\n",
    "-------------"
   ]
  },
  {
   "cell_type": "markdown",
   "metadata": {},
   "source": [
    "-----\n",
    "For the equation $\\langle Av, w \\rangle = \\langle Aw, v \\rangle$ to hold, indicating that $A$ is a self-adjoint (or Hermitian) operator, the following three conditions must be satisfied:\n",
    "\n",
    "1. **Symmetric Matrix (Real Case)**:\n",
    "   If the inner product space is over the real numbers, $A$ must be a symmetric matrix. This means that $A$ is equal to its transpose, $A = A^T$. For any vectors $v$ and $w$,\n",
    "   $\n",
    "   \\langle Av, w \\rangle = v^T A^T w = v^T A w = \\langle Aw, v \\rangle\n",
    "   $\n",
    "   due to the symmetry of $A$.\n",
    "\n",
    "2. **Hermitian Matrix (Complex Case)**:\n",
    "   If the inner product space is over the complex numbers, $A$ must be a Hermitian matrix. This means that $A$ is equal to its conjugate transpose, $A = A^\\dagger$. For any vectors $v$ and $w$,\n",
    "   $\n",
    "   \\langle Av, w \\rangle = (Av)^* w = v^* A^* w = v^* A w = \\langle Aw, v \\rangle\n",
    "   $\n",
    "   due to the Hermitian property of $A$.\n",
    "\n",
    "3. **Self-Adjoint Operator**:\n",
    "   More generally, if $A$ is an operator on an inner product space, it must be self-adjoint. This means that for any vectors $v$ and $w$ in the inner product space,\n",
    "   $\n",
    "   \\langle Av, w \\rangle = \\langle v, A^*w \\rangle\n",
    "   $\n",
    "   where $A^*$ denotes the adjoint of $A$. For $A$ to be self-adjoint, it must satisfy $A = A^*$, ensuring that $\\langle Av, w \\rangle = \\langle v, Aw \\rangle$.\n",
    "\n",
    "These conditions ensure that the operator $A$ maintains the property $\\langle Av, w \\rangle = \\langle Aw, v \\rangle$ for all vectors $v$ and $w$ in the inner product space.\n",
    "\n",
    "\n",
    "-----"
   ]
  },
  {
   "cell_type": "code",
   "execution_count": 1,
   "metadata": {},
   "outputs": [],
   "source": [
    "import numpy as np\n",
    "# Conditions for this to be true\n",
    "\n",
    "# 1) A is square symetric (mxm)\n",
    "# 2) v , w are of same size (mx1)"
   ]
  },
  {
   "cell_type": "code",
   "execution_count": 222,
   "metadata": {},
   "outputs": [
    {
     "name": "stdout",
     "output_type": "stream",
     "text": [
      "True\n"
     ]
    }
   ],
   "source": [
    "def rand(m,b):\n",
    "    value = abs(int(np.round(m*np.random.randn()+b)))\n",
    "    return value+b\n",
    "\n",
    "(m,n)=(rand(5,2),rand(5,2))    \n",
    "\n",
    "M1 = np.random.randn(m,n)\n",
    "\n",
    "S1= M1.T @ M1\n",
    "\n",
    "\n",
    "vectorSize = S1.shape[0]\n",
    "\n",
    "v = np.random.randn(vectorSize)\n",
    "w = np.random.randn(vectorSize)\n",
    "# <Av,w> = <Aw,v>\n",
    "Av = S1 @ v\n",
    "Aw = S1 @ w\n",
    "\n",
    "result = np.allclose(np.dot(Av, w), np.dot(Aw, v))\n",
    "print(result)"
   ]
  }
 ],
 "metadata": {
  "kernelspec": {
   "display_name": "base",
   "language": "python",
   "name": "python3"
  },
  "language_info": {
   "codemirror_mode": {
    "name": "ipython",
    "version": 3
   },
   "file_extension": ".py",
   "mimetype": "text/x-python",
   "name": "python",
   "nbconvert_exporter": "python",
   "pygments_lexer": "ipython3",
   "version": "3.11.7"
  }
 },
 "nbformat": 4,
 "nbformat_minor": 2
}
